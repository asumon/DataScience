{
 "cells": [
  {
   "cell_type": "markdown",
   "metadata": {},
   "source": [
    "# Function Part 3\n",
    "---\n",
    "We already know how powerful the UDF could be. We could build any kind of UDF based on our requirements. So far, UDF seems perfect, but let's think about that if we are facing a big project, we need to build a lot of UDFs to help us take care of the different problems. For an example, we need to build 50 UDFs and some of them are higher-order functions. In this case, the first problem is how to figure out 50 different meanful and readable functions' names for each function? Another negative consequence of this approach is that for each individual UDF, they could have different arguments. If you want to pass one UDF's result to other one, you may need to figure out the arugument's counts and form. Sometime, when our UDFs are complex this problem could be tough to solve. Fortunally, nested function could tackle them. We will have a deep understanding for this concept by following example.\n",
    "\n",
    "Everyone knows that the square roots of 4 are 2 and -2. In R, we use `sqrt()` to get the postive square root value for a numeric vector. "
   ]
  },
  {
   "cell_type": "code",
   "execution_count": 1,
   "metadata": {},
   "outputs": [
    {
     "data": {
      "text/html": [
       "2"
      ],
      "text/latex": [
       "2"
      ],
      "text/markdown": [
       "2"
      ],
      "text/plain": [
       "[1] 2"
      ]
     },
     "metadata": {},
     "output_type": "display_data"
    }
   ],
   "source": [
    "sqrt(4)"
   ]
  },
  {
   "cell_type": "markdown",
   "metadata": {},
   "source": [
    "We should know that a numeric has two squart root value, one is positive, and another is negative.\n",
    "\\begin{equation}\n",
    "2^2 = 4 \n",
    "\\end{equation}\n",
    "\\begin{equation}\n",
    "-2^2 = 4 \n",
    "\\end{equation}\n",
    "\n",
    "Let's see this square root value deeper, how to compute the square value? Here is one simple alogrithem.\n",
    "1. Suppose we have a number which is a, and we want to know the get the square root of a.\n",
    "2. We initialize x equals 1.\n",
    "3. When ${x}^{2}\\neq a$, we use update function to update x's value.\n",
    "4. The update formula is $\\frac{x+\\frac{a}{x}}{2}$\n",
    "5. Return x which is the sauqre root of a.\n",
    "\n",
    "This alogrithem is naive and has some bugs for some cases, we will fix them later, but now this alogrithem is enough to show us the basic concept.\n",
    "\n",
    "Let's see the implementation for this alogrithem."
   ]
  },
  {
   "cell_type": "code",
   "execution_count": 2,
   "metadata": {},
   "outputs": [],
   "source": [
    "# square root function\n",
    "square_root <- function(a) {\n",
    "  x = 1\n",
    "  while (x * x != a) {\n",
    "    x = square_root_update(x, a)\n",
    "  }\n",
    "  return(x)\n",
    "}\n",
    "# update function\n",
    "square_root_update <- function(x, a){\n",
    "  return((x + a/x) / 2)\n",
    "}"
   ]
  },
  {
   "cell_type": "code",
   "execution_count": 3,
   "metadata": {},
   "outputs": [
    {
     "data": {
      "text/html": [
       "4"
      ],
      "text/latex": [
       "4"
      ],
      "text/markdown": [
       "4"
      ],
      "text/plain": [
       "[1] 4"
      ]
     },
     "metadata": {},
     "output_type": "display_data"
    }
   ],
   "source": [
    "square_root(16)"
   ]
  },
  {
   "cell_type": "code",
   "execution_count": 5,
   "metadata": {},
   "outputs": [
    {
     "data": {
      "text/html": [
       "1.5"
      ],
      "text/latex": [
       "1.5"
      ],
      "text/markdown": [
       "1.5"
      ],
      "text/plain": [
       "[1] 1.5"
      ]
     },
     "metadata": {},
     "output_type": "display_data"
    }
   ],
   "source": [
    "square_root(2.25)"
   ]
  },
  {
   "cell_type": "markdown",
   "metadata": {},
   "source": [
    "To this end, this alogrithem cannot handle a numeric value with an irrational square root value. If we call this function to 2. The alogrithem will keep running and return us an error, because the condition statement in `while` loop cannot be required. Most time, we use 1.414 to represent the squar root value for 2, which means we only need an approxmation to replace the *ture* square root value. So far, we will do some updates for this alogrithem to solve the infinite loop. \n",
    "\n",
    "Updating the condition by following formula.\n",
    "\\begin{equation}\n",
    "while\\quad abs(a - x^x) > tolerance\n",
    "\\end{equation}\n",
    "The tolerance is a very small value, in this case, we set it to ${10}^{-3}$. The samller value you set, the more accurate result you get."
   ]
  },
  {
   "cell_type": "code",
   "execution_count": 5,
   "metadata": {},
   "outputs": [],
   "source": [
    "approx_eq <- function(x, y, tolerance = 1e-3) {\n",
    "  flag = FALSE\n",
    "  if (x**2 == y) {\n",
    "    flag\n",
    "  } else if (abs(x**2 - y) > tolerance){\n",
    "    flag = TRUE\n",
    "  }\n",
    "  return (flag)\n",
    "}\n",
    "\n",
    "# Update square_root function\n",
    "square_root <- function(a) {\n",
    "  x = 1\n",
    "  while (approx_eq(x=x, y=a)) {\n",
    "    x = square_root_update(x, a)\n",
    "  }\n",
    "  return(round(x, 3))\n",
    "}"
   ]
  },
  {
   "cell_type": "code",
   "execution_count": 6,
   "metadata": {},
   "outputs": [
    {
     "data": {
      "text/html": [
       "1.414"
      ],
      "text/latex": [
       "1.414"
      ],
      "text/markdown": [
       "1.414"
      ],
      "text/plain": [
       "[1] 1.414"
      ]
     },
     "metadata": {},
     "output_type": "display_data"
    }
   ],
   "source": [
    "square_root(2)"
   ]
  },
  {
   "cell_type": "markdown",
   "metadata": {},
   "source": [
    "Let us check more details on these functions, when we call `approx_eq`, we pass `x` and `a` to this function. This x is the return value of function`square_root_update`, and y equals a. We pass one functions's return valus to anothet function, so we need to set arguments correctly. However, the arguments could be complex in some cases. So, how could we avoid this trouble? The answer is nested function.\n",
    "\n",
    "Nested function is a kind of structure which is we build functions within one funcion. We are introducing two new concepts here to help us have a better insight for nested function.\n",
    "\n",
    "The **global function** and **local function**. As the name suggests, when a variable is in the global enviroment, we coulld call it golbal function, however, we cannot call a local variable in global enviroment. Here is s simple demo."
   ]
  },
  {
   "cell_type": "code",
   "execution_count": 7,
   "metadata": {},
   "outputs": [],
   "source": [
    "global_function <- function() { \n",
    "  x <- 10\n",
    "  print(paste(\"The outler number is\", x))# line 1\n",
    "  \n",
    "  local_function <- function(y = 1) { # line 2\n",
    "    print(paste(\"The inner number is\", y)) # line 3\n",
    "  }\n",
    "  return (local_function()) # line 4\n",
    "}"
   ]
  },
  {
   "cell_type": "markdown",
   "metadata": {},
   "source": [
    "The `global_function` is a nested function and global function. The `local_function` is a function in local enviroment. Also, we could call it as local function.\n",
    "\n",
    "When we call a local function in global, R will return us an error.\n",
    "```r\n",
    "> local_function(y=10)\n",
    "Error in local_function(y = 10) :\n",
    "  could not find function \"local_function\"\n",
    "```\n",
    "\n",
    "```r\n",
    "> x\n",
    "Error: object 'x' not found\n",
    "```\n",
    "\n",
    "```r\n",
    "> global_function()\n",
    "[1] \"The outler number is 10\"\n",
    "[1] \"The inner number is 1\"\n",
    "```\n",
    "The logic for `global_function` is by following order.\n",
    "\n",
    "line1 >>> line2 >>> line4 >>> line2 >>> line3\n",
    "\n",
    "The main idea is that when we created a nested function, the inner functions are local functions, all variables defined within a function are also local variables. When we call functions and variables, be careful about it.\n",
    "\n",
    "Let's rewrite our `square_root` function to a nested function."
   ]
  },
  {
   "cell_type": "code",
   "execution_count": 8,
   "metadata": {},
   "outputs": [],
   "source": [
    "# Get average value for two numbers\n",
    "#' @param x A number.\n",
    "#' @param y A number.\n",
    "average <- function(x, y) { #line 1\n",
    "  return((x + y) / 2) #line 2\n",
    "}\n",
    " \n",
    "# improve function will determin whether update our innitial value no not and return the final result\n",
    "#' @param update a function\n",
    "#' @param close a function\n",
    "#' @param guess a number\n",
    "improve <- function(update, close, guess = 1) {#line 3\n",
    "  while(close(guess) == FALSE) {#line 4\n",
    "      guess = update(guess)#line 5\n",
    "  }\n",
    "  return(round(guess, 3)) # this is our square root value    #line 6\n",
    "}\n",
    "\n",
    "# close function help us do determin whether the current ans is qualified or not\n",
    "#' @param x A number.\n",
    "#' @param y A number.\n",
    "#' @param tolerance A number.\n",
    "approx_eq <-function(x, y, tolerance = 1e-3) {#line 7\n",
    "  return(abs(x - y) < tolerance)#line 8\n",
    "}\n",
    "\n",
    "# sqrt_root function\n",
    "#' @param a A number we want to know its square root value\n",
    "sqrt_root <- function(a){#line 9\n",
    "  sqrt_update <- function(x) {#line 10\n",
    "    return(average(x, a/x))#line 11\n",
    "  }\n",
    "  sqrt_close <- function(x) {#line 12\n",
    "    return(approx_eq(x * x, a))#line 13\n",
    "  }\n",
    "  return(improve(sqrt_update, sqrt_close))#line 14\n",
    "}"
   ]
  },
  {
   "cell_type": "markdown",
   "metadata": {},
   "source": [
    "OK, we build some funtions, `average`, `improve`,and `approx_eq` are in the global enviroment. The `sqrt_root` is a nested function, it contains two inner function which are in the local envrioment. Even they are in the local enviroment, they still could call other functions which are in the global enviroment.\n",
    "\n",
    "Let's see the logic of these functions.\n",
    "1. When we call `sqrt_root`, the line 9.\n",
    "2. line 10\n",
    "3. line 12\n",
    "4. line 14, call `improve` function.\n",
    "5. line 3\n",
    "6. line 5, call close function which is `sqrt_close` function\n",
    "7. line 12\n",
    "8. line 13, call `approx_eq` function\n",
    "9. line 7\n",
    "10. line 8, will return TRUE and FALSE to line 4\n",
    "11. If line 8's result is FALSE, then line 6, the progrm end and return guess for result.\n",
    "12. If line 8's result is TRUE then line 5, call `sqrt_update` function, the line 10.\n",
    "13. line 10\n",
    "14. line 11, call `average` function, line 1.\n",
    "15. line 2 return average value of x and $x/a$\n",
    "16. so far, we have a new guess value from line2.\n",
    "17. repeat setp 4 to step 16 until step 10 result is FALSE and return answer.\n",
    "\n",
    "For step 15 and 16, they are the power of nested function. line 2 result directly pass to line 14 the `improve` function. So, the program repeat automatocally and we do not need to worry about the argument in each function."
   ]
  },
  {
   "cell_type": "code",
   "execution_count": null,
   "metadata": {},
   "outputs": [],
   "source": []
  }
 ],
 "metadata": {
  "kernelspec": {
   "display_name": "R",
   "language": "R",
   "name": "ir"
  },
  "language_info": {
   "codemirror_mode": "r",
   "file_extension": ".r",
   "mimetype": "text/x-r-source",
   "name": "R",
   "pygments_lexer": "r",
   "version": "3.5.1"
  }
 },
 "nbformat": 4,
 "nbformat_minor": 2
}
