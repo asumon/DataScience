{
 "cells": [
  {
   "cell_type": "markdown",
   "metadata": {},
   "source": [
    "# Control flow Part 1\n",
    "---\n",
    "\n",
    "Welcome back, Today we will talk control flow in R. So, what is control flow and why we need it?\n",
    "\n",
    "Usually, R will execute our code sequentially which means from the top line to the bottom line. But sometimes, we want to run some codes if particular conditions are met or want to do the same operation for each element in a vector,  matrix or other data structure.  In this case, we need use control flow. \n",
    "\n",
    "Today, we will discuss `for` loop, and some people may call it iteration.\n",
    "\n",
    "Here is the syntax.\n",
    "\n",
    "```R\n",
    "for (value in sequenc) { \n",
    "  statement1\n",
    "  statement2\n",
    "  ...\n",
    "}\n",
    "\n",
    "```\n",
    "***Tips***: If you use R studio or other IDE for code, you probably do not need to worry about the `space`, but if not, please remember that a space should add behind `for`, and a space between `)`  and `{`.  Two spaces should be added before all statements in curly braces.\n",
    "\n",
    "Let's see some examples."
   ]
  },
  {
   "cell_type": "code",
   "execution_count": 1,
   "metadata": {},
   "outputs": [
    {
     "name": "stdout",
     "output_type": "stream",
     "text": [
      "[1] \"Hello!\"\n",
      "[1] \"Hello!\"\n",
      "[1] \"Hello!\"\n",
      "[1] \"Hello!\"\n",
      "[1] \"Hello!\"\n"
     ]
    }
   ],
   "source": [
    "for (i in 1:5) {\n",
    "  print(\"Hello!\")\n",
    "}"
   ]
  },
  {
   "cell_type": "markdown",
   "metadata": {},
   "source": [
    "By using `for` we print \"Hello!\" five times.  You might think this loop is boring. Yes, you are right, it is boring.\n",
    "\n",
    "We could use for loop do something fresh. We need to build a data frame first."
   ]
  },
  {
   "cell_type": "code",
   "execution_count": 2,
   "metadata": {},
   "outputs": [],
   "source": [
    "# we need to set seed first to make sure our result is same every time.\n",
    "set.seed(8888)\n",
    "a <- rnorm(5)\n",
    "b <- rnorm(5)\n",
    "c <- rnorm(5)\n",
    "d <- rnorm(5)\n",
    "df <- data.frame(a, b, c, d)"
   ]
  },
  {
   "cell_type": "code",
   "execution_count": 3,
   "metadata": {},
   "outputs": [
    {
     "data": {
      "text/html": [
       "<table>\n",
       "<thead><tr><th scope=col>a</th><th scope=col>b</th><th scope=col>c</th><th scope=col>d</th></tr></thead>\n",
       "<tbody>\n",
       "\t<tr><td> 0.19575208</td><td>-0.7085771 </td><td>-0.51737215</td><td> 1.0634396 </td></tr>\n",
       "\t<tr><td> 0.97601196</td><td>-0.9257923 </td><td>-0.39114343</td><td> 0.3614407 </td></tr>\n",
       "\t<tr><td>-0.03688087</td><td> 1.4530496 </td><td>-0.63996059</td><td>-0.9772762 </td></tr>\n",
       "\t<tr><td>-0.02436063</td><td>-0.1568970 </td><td> 0.09916379</td><td> 0.8798711 </td></tr>\n",
       "\t<tr><td> 0.02211168</td><td>-0.4370462 </td><td> 0.08867925</td><td> 0.2600235 </td></tr>\n",
       "</tbody>\n",
       "</table>\n"
      ],
      "text/latex": [
       "\\begin{tabular}{r|llll}\n",
       " a & b & c & d\\\\\n",
       "\\hline\n",
       "\t  0.19575208 & -0.7085771  & -0.51737215 &  1.0634396 \\\\\n",
       "\t  0.97601196 & -0.9257923  & -0.39114343 &  0.3614407 \\\\\n",
       "\t -0.03688087 &  1.4530496  & -0.63996059 & -0.9772762 \\\\\n",
       "\t -0.02436063 & -0.1568970  &  0.09916379 &  0.8798711 \\\\\n",
       "\t  0.02211168 & -0.4370462  &  0.08867925 &  0.2600235 \\\\\n",
       "\\end{tabular}\n"
      ],
      "text/markdown": [
       "\n",
       "a | b | c | d | \n",
       "|---|---|---|---|---|\n",
       "|  0.19575208 | -0.7085771  | -0.51737215 |  1.0634396  | \n",
       "|  0.97601196 | -0.9257923  | -0.39114343 |  0.3614407  | \n",
       "| -0.03688087 |  1.4530496  | -0.63996059 | -0.9772762  | \n",
       "| -0.02436063 | -0.1568970  |  0.09916379 |  0.8798711  | \n",
       "|  0.02211168 | -0.4370462  |  0.08867925 |  0.2600235  | \n",
       "\n",
       "\n"
      ],
      "text/plain": [
       "  a           b          c           d         \n",
       "1  0.19575208 -0.7085771 -0.51737215  1.0634396\n",
       "2  0.97601196 -0.9257923 -0.39114343  0.3614407\n",
       "3 -0.03688087  1.4530496 -0.63996059 -0.9772762\n",
       "4 -0.02436063 -0.1568970  0.09916379  0.8798711\n",
       "5  0.02211168 -0.4370462  0.08867925  0.2600235"
      ]
     },
     "metadata": {},
     "output_type": "display_data"
    }
   ],
   "source": [
    "df"
   ]
  },
  {
   "cell_type": "markdown",
   "metadata": {},
   "source": [
    "We created a data frame with five rows and four columns. Each column comes from standard normal distribution. If you do not understand the normal distribution, do not worry; we will cover it when we talk about statistics. \n",
    "\n",
    "Now, if you want to know the mean for each column,  what should you do? We get how select column in a data frame, so you could do like this way."
   ]
  },
  {
   "cell_type": "code",
   "execution_count": 4,
   "metadata": {},
   "outputs": [
    {
     "data": {
      "text/html": [
       "0.226526843823087"
      ],
      "text/latex": [
       "0.226526843823087"
      ],
      "text/markdown": [
       "0.226526843823087"
      ],
      "text/plain": [
       "[1] 0.2265268"
      ]
     },
     "metadata": {},
     "output_type": "display_data"
    }
   ],
   "source": [
    "# Calculate mean for each column\n",
    "mean(df$a)"
   ]
  },
  {
   "cell_type": "code",
   "execution_count": 5,
   "metadata": {},
   "outputs": [
    {
     "data": {
      "text/html": [
       "-0.155052606879857"
      ],
      "text/latex": [
       "-0.155052606879857"
      ],
      "text/markdown": [
       "-0.155052606879857"
      ],
      "text/plain": [
       "[1] -0.1550526"
      ]
     },
     "metadata": {},
     "output_type": "display_data"
    }
   ],
   "source": [
    "mean(df$b)"
   ]
  },
  {
   "cell_type": "markdown",
   "metadata": {},
   "source": [
    "Or, maybe you know there is a function named `colMeans()`  could help us to solve this problem."
   ]
  },
  {
   "cell_type": "code",
   "execution_count": 6,
   "metadata": {},
   "outputs": [
    {
     "data": {
      "text/html": [
       "<dl class=dl-horizontal>\n",
       "\t<dt>a</dt>\n",
       "\t\t<dd>0.226526843823087</dd>\n",
       "\t<dt>b</dt>\n",
       "\t\t<dd>-0.155052606879857</dd>\n",
       "\t<dt>c</dt>\n",
       "\t\t<dd>-0.272126627693913</dd>\n",
       "\t<dt>d</dt>\n",
       "\t\t<dd>0.317499728957068</dd>\n",
       "</dl>\n"
      ],
      "text/latex": [
       "\\begin{description*}\n",
       "\\item[a] 0.226526843823087\n",
       "\\item[b] -0.155052606879857\n",
       "\\item[c] -0.272126627693913\n",
       "\\item[d] 0.317499728957068\n",
       "\\end{description*}\n"
      ],
      "text/markdown": [
       "a\n",
       ":   0.226526843823087b\n",
       ":   -0.155052606879857c\n",
       ":   -0.272126627693913d\n",
       ":   0.317499728957068\n",
       "\n"
      ],
      "text/plain": [
       "         a          b          c          d \n",
       " 0.2265268 -0.1550526 -0.2721266  0.3174997 "
      ]
     },
     "metadata": {},
     "output_type": "display_data"
    }
   ],
   "source": [
    "colMeans(df)"
   ]
  },
  {
   "cell_type": "markdown",
   "metadata": {},
   "source": [
    "***Tips***: Try following function by yourself. `colMeans()`,  `colSum()`,  `rowMeans()` and, `rowsum()`.\n",
    "\n",
    "Calculating mean value is easy, how about median, stand deviation or Kurtosis?\n",
    "\n",
    "You still could calculate them column by column, but when your data frame with 100 columns, this method will become inconvenient. In this case, for loop will help us to do it.\n"
   ]
  },
  {
   "cell_type": "code",
   "execution_count": 7,
   "metadata": {},
   "outputs": [
    {
     "name": "stdout",
     "output_type": "stream",
     "text": [
      "[1] 0.02211168\n",
      "[1] -0.4370462\n",
      "[1] -0.3911434\n",
      "[1] 0.3614407\n"
     ]
    }
   ],
   "source": [
    "for (i in 1:length(df)) {\n",
    "  print(median(df[[i]]))\n",
    "}"
   ]
  },
  {
   "cell_type": "markdown",
   "metadata": {},
   "source": [
    "See, this for loop help us calculate the mean value for each column automatically.  So, you can image, how easy to calculate median for a data frame with 100 or 100 columns.\n",
    "\n",
    "There is a trick in this `for` loop. Try following code on your own."
   ]
  },
  {
   "cell_type": "code",
   "execution_count": 8,
   "metadata": {},
   "outputs": [
    {
     "name": "stderr",
     "output_type": "stream",
     "text": [
      "Warning message in mean.default(df[i]):\n",
      "“argument is not numeric or logical: returning NA”"
     ]
    },
    {
     "name": "stdout",
     "output_type": "stream",
     "text": [
      "[1] NA\n"
     ]
    },
    {
     "name": "stderr",
     "output_type": "stream",
     "text": [
      "Warning message in mean.default(df[i]):\n",
      "“argument is not numeric or logical: returning NA”"
     ]
    },
    {
     "name": "stdout",
     "output_type": "stream",
     "text": [
      "[1] NA\n"
     ]
    },
    {
     "name": "stderr",
     "output_type": "stream",
     "text": [
      "Warning message in mean.default(df[i]):\n",
      "“argument is not numeric or logical: returning NA”"
     ]
    },
    {
     "name": "stdout",
     "output_type": "stream",
     "text": [
      "[1] NA\n"
     ]
    },
    {
     "name": "stderr",
     "output_type": "stream",
     "text": [
      "Warning message in mean.default(df[i]):\n",
      "“argument is not numeric or logical: returning NA”"
     ]
    },
    {
     "name": "stdout",
     "output_type": "stream",
     "text": [
      "[1] NA\n"
     ]
    }
   ],
   "source": [
    "# Check the warning message. \n",
    "# Could you figure the difference amoung df[[1]], df$a and, df[1]?\n",
    "for (i in 1: length(df)) {\n",
    "  print(mean(df[i]))\n",
    "}"
   ]
  },
  {
   "cell_type": "markdown",
   "metadata": {},
   "source": [
    "OK,  this is the tutorial about `for` loop. Next time we will talk about the `while` loop.\n",
    "\n",
    "See you guys next time!"
   ]
  }
 ],
 "metadata": {
  "kernelspec": {
   "display_name": "R",
   "language": "R",
   "name": "ir"
  },
  "language_info": {
   "codemirror_mode": "r",
   "file_extension": ".r",
   "mimetype": "text/x-r-source",
   "name": "R",
   "pygments_lexer": "r",
   "version": "3.4.3"
  }
 },
 "nbformat": 4,
 "nbformat_minor": 2
}
