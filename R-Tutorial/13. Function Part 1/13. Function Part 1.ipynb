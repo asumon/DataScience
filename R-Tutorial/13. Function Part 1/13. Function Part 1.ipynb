{
 "cells": [
  {
   "cell_type": "markdown",
   "metadata": {},
   "source": [
    "# Function Part 1\n",
    "\n",
    "Hey, guys, welcome back. Today, we will start a new chapter. The FUNCTION. R provides a lot of functions for us. We use the functions to do everything in R. So, you can tell it is impossible to introduce all functions here. In these new tutorials, we will focus on how to build our functions. Why do we need to do it, the answer is obvious, everyone has their own requirements, so we need our functions to meet the requirements.\n",
    "\n",
    "---\n",
    "\n",
    "**Common functions**\n",
    "\n",
    "If you want, you could rewrite all existed functions by yourself, but you should not do it. So, when you have some requirements, and you want to build functions for it. Do not do it immediately, try to Google first. Maybe some function has already been created. If you cannot find the suitable one, then write it on your own.\n",
    "\n",
    "So, it is necessary to understand standard common functions. Here, I suggest a website for checking functions' detail, the [R Documentation](https://www.rdocumentation.org/). \n",
    "\n",
    "1. The first function I would like to introduce which is `help()` function. This function could help you to check every detail of one function you are interested in it.\n",
    "2. **Mathematical functions**\n",
    "3. **Statistical functions**\n",
    "\n",
    "Here, I will not try to give you a summary because you could easily find a lot of good summaries online. Here is a [website](https://livebook.manning.com/#!/book/r-in-action-second-edition/chapter-5/17) I think it is pretty detailed.\n",
    "\n",
    "---\n",
    "\n",
    "**User-Defined Functions**\n",
    "\n",
    "User-Defined Function, also a.k.a UDF. R allow us to build any kind of UDF. Here is the structure of UDF.\n",
    "\n",
    "We use `function()` to build function.\n",
    "\n",
    "```R\n",
    "func_name <- function(args*) {\n",
    "  statement1 # two spaces before statement\n",
    "  statemetn2\n",
    "  ...\n",
    "  return(objects)\n",
    "}\n",
    "```\n",
    "\n",
    "* function name: It is your function, so you can use any name if you want, but a good name should also readable for other people.  The name should be easy to understand and use. \n",
    "* arguments:  The arguments will be used in next statements. You could set as many as you want. If you do not mention some arguments here, but you still use them in the following statements. R will return the error and tell which arguments are not found.\n",
    "* statements: You could set statements as many as you want. All data structure's operations and control flow we introduced before, you could set them in these statements.\n",
    "* return: `return` is a function. We use it to return the values for our function. If you do not set return in your function, r will not give you an error. But your function will also have no return value. We will see the difference later.\n",
    "\n",
    "---\n",
    "\n",
    "**Build function**\n",
    "\n",
    "Let's build our first function.\n",
    "\n",
    "Now, we would like to build a function which can return a square value for a numeric or integer."
   ]
  },
  {
   "cell_type": "code",
   "execution_count": 1,
   "metadata": {},
   "outputs": [],
   "source": [
    "square <- function(x) {\n",
    "  return(x ** 2)\n",
    "}"
   ]
  },
  {
   "cell_type": "markdown",
   "metadata": {},
   "source": [
    "For this function, we named it as `square`, and set only one argument x. Here, we call it x, you could use anything you want. Such as, use `aaa` to replace `x`, this is your decision, but I suggest to use a common name such as `x`.\n",
    "\n",
    "Having defined `square`, we can apply it with a call expression."
   ]
  },
  {
   "cell_type": "code",
   "execution_count": 2,
   "metadata": {},
   "outputs": [
    {
     "data": {
      "text/html": [
       "9"
      ],
      "text/latex": [
       "9"
      ],
      "text/markdown": [
       "9"
      ],
      "text/plain": [
       "[1] 9"
      ]
     },
     "metadata": {},
     "output_type": "display_data"
    }
   ],
   "source": [
    "# We only set argument when we bulild quare,\n",
    "# so you could not pass more than one number here.\n",
    "square(3)"
   ]
  },
  {
   "cell_type": "code",
   "execution_count": 3,
   "metadata": {},
   "outputs": [
    {
     "data": {
      "text/html": [
       "16"
      ],
      "text/latex": [
       "16"
      ],
      "text/markdown": [
       "16"
      ],
      "text/plain": [
       "[1] 16"
      ]
     },
     "metadata": {},
     "output_type": "display_data"
    }
   ],
   "source": [
    "square(4)"
   ]
  },
  {
   "cell_type": "markdown",
   "metadata": {},
   "source": [
    "We also could assign a variable to this function' s return value. "
   ]
  },
  {
   "cell_type": "code",
   "execution_count": 4,
   "metadata": {},
   "outputs": [
    {
     "data": {
      "text/html": [
       "36"
      ],
      "text/latex": [
       "36"
      ],
      "text/markdown": [
       "36"
      ],
      "text/plain": [
       "[1] 36"
      ]
     },
     "metadata": {},
     "output_type": "display_data"
    }
   ],
   "source": [
    "var <- square(6)\n",
    "var"
   ]
  },
  {
   "cell_type": "markdown",
   "metadata": {},
   "source": [
    "OK,  if you are a beginner for programming. The return function maybe a little bit tricky for you. Let's see following examples."
   ]
  },
  {
   "cell_type": "code",
   "execution_count": 5,
   "metadata": {},
   "outputs": [],
   "source": [
    "test <- function(x) {\n",
    "  return(x + 2)\n",
    "}\n",
    "\n",
    "test2 <- function(x) {\n",
    "  print(x + 2)\n",
    "}"
   ]
  },
  {
   "cell_type": "code",
   "execution_count": 6,
   "metadata": {},
   "outputs": [
    {
     "data": {
      "text/html": [
       "6"
      ],
      "text/latex": [
       "6"
      ],
      "text/markdown": [
       "6"
      ],
      "text/plain": [
       "[1] 6"
      ]
     },
     "metadata": {},
     "output_type": "display_data"
    }
   ],
   "source": [
    "test(4)"
   ]
  },
  {
   "cell_type": "code",
   "execution_count": 7,
   "metadata": {},
   "outputs": [
    {
     "name": "stdout",
     "output_type": "stream",
     "text": [
      "[1] 6\n"
     ]
    }
   ],
   "source": [
    "test2(4)"
   ]
  },
  {
   "cell_type": "markdown",
   "metadata": {},
   "source": [
    "See, both functions will give you the same value, but they are different. For test2, if you assign a variable to this function, and call it, th en you will get nothing. Because this function do not have a return value. So, please use the return in your  function.\n",
    "\n",
    "So far, we have one UDF, and we set only one argument in this function. Now, we build the second one. In this time, we call our first UDF within the new function. We are going to build a function returns the sum of two numbers' square value."
   ]
  },
  {
   "cell_type": "code",
   "execution_count": 8,
   "metadata": {},
   "outputs": [
    {
     "data": {
      "text/html": [
       "10"
      ],
      "text/latex": [
       "10"
      ],
      "text/markdown": [
       "10"
      ],
      "text/plain": [
       "[1] 10"
      ]
     },
     "metadata": {},
     "output_type": "display_data"
    }
   ],
   "source": [
    "square_two <- function(x, y) {\n",
    "  return(square(x) + square(y))\n",
    "}\n",
    "\n",
    "square_two(1, 3)"
   ]
  },
  {
   "cell_type": "markdown",
   "metadata": {},
   "source": [
    "We finished our tutorial today, we known how to build a function and how to call a function within a function. Next time, we will combine control flow and function together and do more interesting thing.\n",
    "\n",
    "\n",
    "\n",
    "See you~~~"
   ]
  }
 ],
 "metadata": {
  "kernelspec": {
   "display_name": "R",
   "language": "R",
   "name": "ir"
  },
  "language_info": {
   "codemirror_mode": "r",
   "file_extension": ".r",
   "mimetype": "text/x-r-source",
   "name": "R",
   "pygments_lexer": "r",
   "version": "3.4.3"
  }
 },
 "nbformat": 4,
 "nbformat_minor": 2
}
