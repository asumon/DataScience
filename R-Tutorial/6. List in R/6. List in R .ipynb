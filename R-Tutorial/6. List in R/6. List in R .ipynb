{
 "cells": [
  {
   "cell_type": "markdown",
   "metadata": {},
   "source": [
    "# List in R \n",
    "---\n",
    "Welcome back, today we will cover the `list` in R. \n",
    "\n",
    "For the `list`, you could consider it is a bag which can contain any data structure in it. This explanation might sound a little bit abstract. Let's see an example.\n",
    "\n",
    "We use `list()` function to create a list."
   ]
  },
  {
   "cell_type": "code",
   "execution_count": 1,
   "metadata": {},
   "outputs": [],
   "source": [
    "obj1 <- c(1, 2, 3, 4)\n",
    "obj2 <- 'I love R language!'\n",
    "obj3 <- factor(c('Type I ', 'Type II'))\n",
    "obj4 <- matrix(1:9, 3, 3)\n",
    "obj5 <- c(\"A\", \"B\", \"C\")\n",
    "\n",
    "studentID <- c(1, 2, 3, 4)\n",
    "age <- c(21, 22, 22, 19)\n",
    "major <- c('STAT', 'CS', 'EDU', 'STAT')\n",
    "GPA <- c(3.1, 3.2, 3.3, 3.4)\n",
    "name <- c('Shawn', 'Jack', 'Peter', 'Mary')\n",
    "gender <- c('M', 'M', 'M', 'F')\n",
    "df_1 <- data.frame(studentID, name, age, gender, major, GPA)"
   ]
  },
  {
   "cell_type": "markdown",
   "metadata": {},
   "source": [
    "We created some objects then we put them into a list."
   ]
  },
  {
   "cell_type": "code",
   "execution_count": 2,
   "metadata": {},
   "outputs": [],
   "source": [
    "list1 <- list(title = 'This is list 1', obj1 , obj2, obj3, obj4, obj5)"
   ]
  },
  {
   "cell_type": "markdown",
   "metadata": {},
   "source": [
    "```R\n",
    "> list1\n",
    "$title\n",
    "[1] \"This is list 1\"\n",
    "\n",
    "[[2]]\n",
    "[1] 1 2 3 4\n",
    "\n",
    "[[3]]\n",
    "[1] \"I love R language!\"\n",
    "\n",
    "[[4]]\n",
    "[1] Type I  Type II\n",
    "Levels: Type I  Type II\n",
    "\n",
    "[[5]]\n",
    "     [,1] [,2] [,3]\n",
    "[1,]    1    4    7\n",
    "[2,]    2    5    8\n",
    "[3,]    3    6    9\n",
    "\n",
    "[[6]]\n",
    "[1] \"A\" \"B\" \"C\"\n",
    "```\n",
    "\n",
    "For `list1` we put five objects into it, and these elements are with the different data structure. We also set a title for this list, but this is not required.  We could use `length()` to check list's length. "
   ]
  },
  {
   "cell_type": "code",
   "execution_count": 3,
   "metadata": {},
   "outputs": [
    {
     "data": {
      "text/html": [
       "6"
      ],
      "text/latex": [
       "6"
      ],
      "text/markdown": [
       "6"
      ],
      "text/plain": [
       "[1] 6"
      ]
     },
     "metadata": {},
     "output_type": "display_data"
    }
   ],
   "source": [
    "# R will consider title as one item, so the lenght is six.\n",
    "# If you do not set title, the length is five. \n",
    "length(list1)"
   ]
  },
  {
   "cell_type": "markdown",
   "metadata": {},
   "source": [
    "As I mentioned before, we could put any data structure into a list, which means that we could put a list into a list."
   ]
  },
  {
   "cell_type": "code",
   "execution_count": 4,
   "metadata": {},
   "outputs": [],
   "source": [
    "list2 <- list(title = \"List 2 contains a list\", list1, obj1, obj2)"
   ]
  },
  {
   "cell_type": "markdown",
   "metadata": {},
   "source": [
    "```R\n",
    "> list2\n",
    "$title\n",
    "[1] \"List 2 contains a list\"\n",
    "\n",
    "[[2]]\n",
    "[[2]]$title\n",
    "[1] \"This is list 1\"\n",
    "\n",
    "[[2]][[2]]\n",
    "[1] 1 2 3 4\n",
    "\n",
    "[[2]][[3]]\n",
    "[1] \"I love R language!\"\n",
    "\n",
    "[[2]][[4]]\n",
    "[1] Type I  Type II\n",
    "Levels: Type I  Type II\n",
    "\n",
    "[[2]][[5]]\n",
    "     [,1] [,2] [,3]\n",
    "[1,]    1    4    7\n",
    "[2,]    2    5    8\n",
    "[3,]    3    6    9\n",
    "\n",
    "[[2]][[6]]\n",
    "[1] \"A\" \"B\" \"C\"\n",
    "\n",
    "\n",
    "[[3]]\n",
    "[1] 1 2 3 4\n",
    "\n",
    "[[4]]\n",
    "[1] \"I love R language!\"\n",
    "\n",
    "```"
   ]
  },
  {
   "cell_type": "code",
   "execution_count": 5,
   "metadata": {},
   "outputs": [
    {
     "data": {
      "text/html": [
       "4"
      ],
      "text/latex": [
       "4"
      ],
      "text/markdown": [
       "4"
      ],
      "text/plain": [
       "[1] 4"
      ]
     },
     "metadata": {},
     "output_type": "display_data"
    }
   ],
   "source": [
    "# R treate list1 as one item, so the length is four\n",
    "length(list2)"
   ]
  },
  {
   "cell_type": "markdown",
   "metadata": {},
   "source": [
    "The subsetting for the list is as same as we mentioned before. Nothing new.\n",
    "\n",
    "OK, we finished the `list`,  next time we will start to talk control flow. "
   ]
  }
 ],
 "metadata": {
  "kernelspec": {
   "display_name": "R",
   "language": "R",
   "name": "ir"
  },
  "language_info": {
   "codemirror_mode": "r",
   "file_extension": ".r",
   "mimetype": "text/x-r-source",
   "name": "R",
   "pygments_lexer": "r",
   "version": "3.4.3"
  }
 },
 "nbformat": 4,
 "nbformat_minor": 2
}
