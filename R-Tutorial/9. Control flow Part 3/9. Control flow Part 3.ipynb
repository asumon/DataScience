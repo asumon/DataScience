{
 "cells": [
  {
   "cell_type": "markdown",
   "metadata": {},
   "source": [
    "# Control flow Part 3\n",
    "\n",
    "Last time, we discussed the Logical operation in R. Today we will focus on `while` loop.\n",
    "\n",
    "As we discussed last time, `while` loop and `for` loop basically are identical.  Let's see an example of how to use a `while` loop to rewrite a `for` loop. "
   ]
  },
  {
   "cell_type": "code",
   "execution_count": 1,
   "metadata": {},
   "outputs": [
    {
     "name": "stdout",
     "output_type": "stream",
     "text": [
      "[1] \"columbia\"\n",
      "[1] \"bloomington\"\n",
      "[1] \"New York\"\n"
     ]
    }
   ],
   "source": [
    "cities <- c('columbia', 'bloomington', 'New York')\n",
    "# for loop\n",
    "for (city in cities) {\n",
    "  print(city)\n",
    "}"
   ]
  },
  {
   "cell_type": "code",
   "execution_count": 2,
   "metadata": {},
   "outputs": [
    {
     "name": "stdout",
     "output_type": "stream",
     "text": [
      "[1] \"columbia\"\n",
      "[1] \"bloomington\"\n",
      "[1] \"New York\"\n"
     ]
    }
   ],
   "source": [
    "# while loop\n",
    "count <- 1 # this is a counter for condition in the wihle loop\n",
    "while (count <= 3) {\n",
    "  print(cities[count])\n",
    "  count <- count + 1\n",
    "}"
   ]
  },
  {
   "cell_type": "markdown",
   "metadata": {},
   "source": [
    "Comparing to the `for` loop, we need to set a counter and update it manually in the `while` loop, but `for` loop will iterate the sequence automatically.\n",
    "\n",
    "After this example, you maybe know how `while` loop works. Here is the syntax.\n",
    "\n",
    "```R\n",
    "# when condition are met, the statents in curly braces will be executed, when condition are not met, the program will end.\n",
    "# We need to set the condition before loop\n",
    "while (condition) {\n",
    "  statement1\n",
    "  statiment2\n",
    "  # condition update\n",
    "  ...\n",
    "}\n",
    "```\n",
    "Please remember that, for the counter in your statement, it has to be meet the condition in some time. If not, the `while` loop will become an infinite loop. Please, avoid the infinite loop in your code.\n",
    "\n",
    "```R\n",
    "# This is an infinite loop, you could try it.\n",
    "# Sometime, it is hard to debug for infinite loop, especially when you code is complicated. \n",
    "count = 1\n",
    "while (count < 2) {\n",
    "  print(\"Hello World!\")\n",
    "}\n",
    "```\n",
    "\n",
    "At this moment, we cannot fully use while loop's power. After we discuss `if-else`, we will see more powerful examples.\n",
    "\n",
    "The last thing we need to notice for today's tutorial is that the condition in while loop could be a combination. You could set multiple conditions."
   ]
  },
  {
   "cell_type": "code",
   "execution_count": 3,
   "metadata": {},
   "outputs": [
    {
     "name": "stdout",
     "output_type": "stream",
     "text": [
      "[1] \"Count1 is 1\"\n",
      "[1] \"Count2 is 10\"\n",
      "[1] \"Count1 is 2\"\n",
      "[1] \"Count2 is 9\"\n",
      "[1] \"Count1 is 3\"\n",
      "[1] \"Count2 is 8\"\n",
      "[1] \"Count1 is 4\"\n",
      "[1] \"Count2 is 7\"\n",
      "[1] \"Count1 is 5\"\n",
      "[1] \"Count2 is 6\"\n"
     ]
    }
   ],
   "source": [
    "count1 <- 1\n",
    "count2 <- 10\n",
    "while((count1 <5) | (count2 >5)) {\n",
    "  print(paste(\"Count1 is\", count1))\n",
    "  print(paste(\"Count2 is\", count2))\n",
    "  count1 <- count1 + 1\n",
    "  count2 <- count2 - 1\n",
    "}"
   ]
  },
  {
   "cell_type": "markdown",
   "metadata": {},
   "source": [
    "This example shows a `while` loop with two conditions. Try to figure it out by yourself. \n",
    "\n",
    "OK, this is today's tutorial. Next time, we still talk about control flow. I will show you how to use conditional statements.\n",
    "\n",
    "Peace!"
   ]
  }
 ],
 "metadata": {
  "kernelspec": {
   "display_name": "R",
   "language": "R",
   "name": "ir"
  },
  "language_info": {
   "codemirror_mode": "r",
   "file_extension": ".r",
   "mimetype": "text/x-r-source",
   "name": "R",
   "pygments_lexer": "r",
   "version": "3.4.3"
  }
 },
 "nbformat": 4,
 "nbformat_minor": 2
}
