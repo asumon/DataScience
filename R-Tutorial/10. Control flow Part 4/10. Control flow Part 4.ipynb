{
 "cells": [
  {
   "cell_type": "markdown",
   "metadata": {},
   "source": [
    "# Control flow Part 4\n",
    "---\n",
    "\n",
    "Hey, welcome back.Today's topic is  `next` and `break`. \n",
    "\n",
    "**Conditional execution** \n",
    "\n",
    "We are already known how to use `for` and `while` loop. These two structures could do a lot of powerful things, but sometimes when we want to execute statements only with some conditions are met. What should we do? R provides us `if-else`, and `ifeles` for this job.\n",
    "\n",
    "**if statement**:\n",
    "\n",
    "We use `if` statement when we want execute statements only conditions are true. Here is the syntax.\n",
    "\n",
    "```R\n",
    "# When conditions are true, then statements will execute. If not, nothing will execute.\n",
    "> if (conditions) {\n",
    "  statement1\n",
    "  statement2\n",
    "  ...    \n",
    "  }\n",
    "```"
   ]
  },
  {
   "cell_type": "code",
   "execution_count": 1,
   "metadata": {},
   "outputs": [
    {
     "name": "stdout",
     "output_type": "stream",
     "text": [
      "[1] \"This number is smaller than 10\"\n"
     ]
    }
   ],
   "source": [
    "x <- 1\n",
    "if (x < 10) { #  x is smallet than 10, so this condition is TRUE\n",
    "  print(\"This number is smaller than 10\") # This line will be executed\n",
    "}"
   ]
  },
  {
   "cell_type": "code",
   "execution_count": 2,
   "metadata": {},
   "outputs": [],
   "source": [
    "x <- 11\n",
    "if (x < 10) { #  x is smallet than 10, so this condition is FALSE\n",
    "  print(\"This number is smaller than 10\")\n",
    "  # This line will not be executed\n",
    "}"
   ]
  },
  {
   "cell_type": "markdown",
   "metadata": {},
   "source": [
    "**else statement**:\n",
    "\n",
    "`If` statement can handle a lot of things, however, our requirements are more complicated in some cases.  If a condition is FALSE, we would like to run other statements instead of doing nothing. So, we need `else` statement.\n",
    "\n",
    "As usual, here is the syntax.\n",
    "```R\n",
    "# When conditions are trun, statement1 will be executed. Statement2 will be executed only when conditions are FALSE\n",
    "\n",
    "# Only one of Statemen1 ans statement2 will be executed. It will never happen, they are both  executed.\n",
    "\n",
    "> if (conditions) {\n",
    "    statement1\n",
    "} else {\n",
    "    statement2\n",
    "}\n",
    "```"
   ]
  },
  {
   "cell_type": "code",
   "execution_count": 3,
   "metadata": {},
   "outputs": [
    {
     "name": "stdout",
     "output_type": "stream",
     "text": [
      "[1] \"This number is larger than 10\"\n"
     ]
    }
   ],
   "source": [
    "x <- 11\n",
    "if (x < 10) { # condition is FALSE\n",
    "# This statement will not be executed,jump to else statement\n",
    "  print(\"This number is smaller than 10\") \n",
    "} else{\n",
    "# This statement will be executed because condition is FALAE\n",
    "  print(\"This number is larger than 10\")\n",
    "}"
   ]
  },
  {
   "cell_type": "markdown",
   "metadata": {},
   "source": [
    "The example is straightforward, and you can easily understand it. One thing needs to be noticed which is that you could use `if` statement alone ,but you cannot use `else` along.\n",
    "\n",
    "**else if**:\n",
    "\n",
    "When we only have two conditions need to be concerned, `if_else` could meet our requirements. But if we have more than two conditions? In this case, we need to add a new item to help us. The `if else` statement.\n",
    "\n",
    "```R\n",
    "> if (condition1) {\n",
    "    statement1\n",
    "} else if (condition2) {\n",
    "    statement2\n",
    "} else {\n",
    "    statement3\n",
    "}\n",
    "```\n",
    "\n",
    "Here is the logical for this program. The program will test condition 1 first, if it is true, then statement 1 will be executed and program ends.  If, condition 1 is FALSE, program will test condition 2. This is the same story as statement 1. Finally, if all statements are FALSE, then execute statement and program ends.  Here, we only add two additions, you cal add as many as you want and the logical is same.\n",
    "\n",
    "**ifelse**:\n",
    "\n",
    "`ifelse` if the last thing of today. First, let's see an example. We will compare two methods. The first one, we only use the technique we learned so far. For the second solution, we use `ifelse`.\n",
    "\n",
    "Supposing we have a data set as following."
   ]
  },
  {
   "cell_type": "code",
   "execution_count": 4,
   "metadata": {},
   "outputs": [],
   "source": [
    "Name <- c(\"Shawn\", \"Simon\", \"Jack\", \"Peter\")\n",
    "Score <- c(78, 85, 60, 100)\n",
    "test <- data.frame(Name, Score)\n",
    "test$Name <- as.character(test$Name)"
   ]
  },
  {
   "cell_type": "code",
   "execution_count": 5,
   "metadata": {},
   "outputs": [
    {
     "data": {
      "text/html": [
       "<table>\n",
       "<thead><tr><th scope=col>Name</th><th scope=col>Score</th></tr></thead>\n",
       "<tbody>\n",
       "\t<tr><td>Shawn</td><td> 78  </td></tr>\n",
       "\t<tr><td>Simon</td><td> 85  </td></tr>\n",
       "\t<tr><td>Jack </td><td> 60  </td></tr>\n",
       "\t<tr><td>Peter</td><td>100  </td></tr>\n",
       "</tbody>\n",
       "</table>\n"
      ],
      "text/latex": [
       "\\begin{tabular}{r|ll}\n",
       " Name & Score\\\\\n",
       "\\hline\n",
       "\t Shawn &  78  \\\\\n",
       "\t Simon &  85  \\\\\n",
       "\t Jack  &  60  \\\\\n",
       "\t Peter & 100  \\\\\n",
       "\\end{tabular}\n"
      ],
      "text/markdown": [
       "\n",
       "Name | Score | \n",
       "|---|---|---|---|\n",
       "| Shawn |  78   | \n",
       "| Simon |  85   | \n",
       "| Jack  |  60   | \n",
       "| Peter | 100   | \n",
       "\n",
       "\n"
      ],
      "text/plain": [
       "  Name  Score\n",
       "1 Shawn  78  \n",
       "2 Simon  85  \n",
       "3 Jack   60  \n",
       "4 Peter 100  "
      ]
     },
     "metadata": {},
     "output_type": "display_data"
    }
   ],
   "source": [
    "test"
   ]
  },
  {
   "cell_type": "markdown",
   "metadata": {},
   "source": [
    "Now, we want to add a new column named rank, and set rank as 'good' if the Score is larger than 80, if not, the rank is 'bad'. Let's see how to do it."
   ]
  },
  {
   "cell_type": "code",
   "execution_count": 6,
   "metadata": {},
   "outputs": [],
   "source": [
    "# method 1\n",
    "for (i in 1:4) {\n",
    "  if (test$Score[i] > 80) {\n",
    "    test$rank[i] <- \"Good\"\n",
    "  } else {\n",
    "    test$rank[i] <- \"Bad\"\n",
    "  }\n",
    "}"
   ]
  },
  {
   "cell_type": "code",
   "execution_count": 7,
   "metadata": {},
   "outputs": [
    {
     "data": {
      "text/html": [
       "<table>\n",
       "<thead><tr><th scope=col>Name</th><th scope=col>Score</th><th scope=col>rank</th></tr></thead>\n",
       "<tbody>\n",
       "\t<tr><td>Shawn</td><td> 78  </td><td>Bad  </td></tr>\n",
       "\t<tr><td>Simon</td><td> 85  </td><td>Good </td></tr>\n",
       "\t<tr><td>Jack </td><td> 60  </td><td>Bad  </td></tr>\n",
       "\t<tr><td>Peter</td><td>100  </td><td>Good </td></tr>\n",
       "</tbody>\n",
       "</table>\n"
      ],
      "text/latex": [
       "\\begin{tabular}{r|lll}\n",
       " Name & Score & rank\\\\\n",
       "\\hline\n",
       "\t Shawn &  78   & Bad  \\\\\n",
       "\t Simon &  85   & Good \\\\\n",
       "\t Jack  &  60   & Bad  \\\\\n",
       "\t Peter & 100   & Good \\\\\n",
       "\\end{tabular}\n"
      ],
      "text/markdown": [
       "\n",
       "Name | Score | rank | \n",
       "|---|---|---|---|\n",
       "| Shawn |  78   | Bad   | \n",
       "| Simon |  85   | Good  | \n",
       "| Jack  |  60   | Bad   | \n",
       "| Peter | 100   | Good  | \n",
       "\n",
       "\n"
      ],
      "text/plain": [
       "  Name  Score rank\n",
       "1 Shawn  78   Bad \n",
       "2 Simon  85   Good\n",
       "3 Jack   60   Bad \n",
       "4 Peter 100   Good"
      ]
     },
     "metadata": {},
     "output_type": "display_data"
    }
   ],
   "source": [
    "# We add a new column by method 1\n",
    "test"
   ]
  },
  {
   "cell_type": "markdown",
   "metadata": {},
   "source": [
    "To be honest, there is nothing wrong with method 1.  It is just a little bit redundancy. `for` loop is a little bit of slow because it is an `O(n)` algorithm, it is fine if you do not understand what is `O(n)` algorithm. Just remember, `for` loop is slow.  We will cover a lot of methods to avoid `for` loop. Here is the first one.\n"
   ]
  },
  {
   "cell_type": "code",
   "execution_count": 8,
   "metadata": {},
   "outputs": [
    {
     "data": {
      "text/html": [
       "<table>\n",
       "<thead><tr><th scope=col>Name</th><th scope=col>Score</th><th scope=col>rank</th><th scope=col>rank2</th></tr></thead>\n",
       "<tbody>\n",
       "\t<tr><td>Shawn</td><td> 78  </td><td>Bad  </td><td>Bad  </td></tr>\n",
       "\t<tr><td>Simon</td><td> 85  </td><td>Good </td><td>Good </td></tr>\n",
       "\t<tr><td>Jack </td><td> 60  </td><td>Bad  </td><td>Bad  </td></tr>\n",
       "\t<tr><td>Peter</td><td>100  </td><td>Good </td><td>Good </td></tr>\n",
       "</tbody>\n",
       "</table>\n"
      ],
      "text/latex": [
       "\\begin{tabular}{r|llll}\n",
       " Name & Score & rank & rank2\\\\\n",
       "\\hline\n",
       "\t Shawn &  78   & Bad   & Bad  \\\\\n",
       "\t Simon &  85   & Good  & Good \\\\\n",
       "\t Jack  &  60   & Bad   & Bad  \\\\\n",
       "\t Peter & 100   & Good  & Good \\\\\n",
       "\\end{tabular}\n"
      ],
      "text/markdown": [
       "\n",
       "Name | Score | rank | rank2 | \n",
       "|---|---|---|---|\n",
       "| Shawn |  78   | Bad   | Bad   | \n",
       "| Simon |  85   | Good  | Good  | \n",
       "| Jack  |  60   | Bad   | Bad   | \n",
       "| Peter | 100   | Good  | Good  | \n",
       "\n",
       "\n"
      ],
      "text/plain": [
       "  Name  Score rank rank2\n",
       "1 Shawn  78   Bad  Bad  \n",
       "2 Simon  85   Good Good \n",
       "3 Jack   60   Bad  Bad  \n",
       "4 Peter 100   Good Good "
      ]
     },
     "metadata": {},
     "output_type": "display_data"
    }
   ],
   "source": [
    "# Method2\n",
    "test$rank2 <- ifelse(test$Score > 80, \"Good\", \"Bad\")\n",
    "# We add a new column by method 2\n",
    "test"
   ]
  },
  {
   "cell_type": "markdown",
   "metadata": {},
   "source": [
    "See, method 2 is simpler than method 1. The reason why we do not need to use `for` loop to iterate item in the data set is that `ifelse` will treat data as a vector. We also call this operation is vectorization. So far, you do not need to know what is it, but if you are interested in it. I strongly recommend this [link](https://www.coursera.org/learn/neural-networks-deep-learning/lecture/NYnog/vectorization) for you. \n",
    "\n",
    "Before we end today's topic, let's see the syntax of `ifelse`. \n",
    "\n",
    "```R\n",
    "ifelse(conditions, statement1, statement2)\n",
    "```\n",
    "\n",
    "When conditions are true, then statement 1 will be executed, if not, statement 2 will be executed. Notice that, you could set multiple conditions here.\n",
    "\n",
    "If we only use `for` loop , `while` loop and, `if_else`  statement alone in one program. There are not to much things we could do, but if we combine them together. Things will become more interesting. \n",
    "\n",
    "Next time, we will do some thing fun.\n",
    "\n",
    "See you guys!"
   ]
  }
 ],
 "metadata": {
  "kernelspec": {
   "display_name": "R",
   "language": "R",
   "name": "ir"
  },
  "language_info": {
   "codemirror_mode": "r",
   "file_extension": ".r",
   "mimetype": "text/x-r-source",
   "name": "R",
   "pygments_lexer": "r",
   "version": "3.4.3"
  }
 },
 "nbformat": 4,
 "nbformat_minor": 2
}
