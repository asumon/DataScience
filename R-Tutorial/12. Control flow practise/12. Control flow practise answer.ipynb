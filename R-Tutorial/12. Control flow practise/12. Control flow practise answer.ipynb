{
 "cells": [
  {
   "cell_type": "markdown",
   "metadata": {},
   "source": [
    "# Control flow Parctise--answer\n",
    "---"
   ]
  },
  {
   "cell_type": "markdown",
   "metadata": {},
   "source": [
    "1. Given a positive integer that does not exceed five digits, determine how digits it has, and print out the digits, tens, hundreds, thousands, and tens digits in order."
   ]
  },
  {
   "cell_type": "code",
   "execution_count": 1,
   "metadata": {},
   "outputs": [
    {
     "name": "stdout",
     "output_type": "stream",
     "text": [
      "[1] \"This integer is with 5 digits\"\n"
     ]
    }
   ],
   "source": [
    "# Determin x's digits\n",
    "x <- 12345\n",
    "\n",
    "if (x < 0) {\n",
    "    print(\"The integer shoud lrger than 0\")\n",
    "} else if (x %% 1 != 0) {\n",
    "    print(\"The number shoud be an integer\")\n",
    "} else if(x > 99999) {\n",
    "    print(\"This number shoud not exceed five digits\")\n",
    "} else if((x / 1000) > 10) {\n",
    "    print(\"This integer is with 5 digits\")\n",
    "    r = 5\n",
    "} else if ((x / 1000) > 1) {\n",
    "    print(\"This integer is with 4 digits\")\n",
    "    r = 4\n",
    "} else if ((x / 100) > 1) {\n",
    "    print(\"This integer is with 3 digits\")\n",
    "    r = 3\n",
    "} else if ((x / 10) > 1) {\n",
    "    print(\"This integer is with 2 digits\")\n",
    "    r =2\n",
    "} else {\n",
    "    print(\"This integer is only one digit\")\n",
    "    r = 1\n",
    "}"
   ]
  },
  {
   "cell_type": "code",
   "execution_count": 2,
   "metadata": {},
   "outputs": [
    {
     "name": "stdout",
     "output_type": "stream",
     "text": [
      "[1] 5\n",
      "[1] 4\n",
      "[1] 3\n",
      "[1] 2\n",
      "[1] 1\n"
     ]
    }
   ],
   "source": [
    "# Print out each digit by order\n",
    "for (i in 1:r) {\n",
    "  print(x %% 10)\n",
    "  x = x %/% 10\n",
    "}"
   ]
  },
  {
   "cell_type": "markdown",
   "metadata": {},
   "source": [
    "2. Find the sum of all odd numbers within 10"
   ]
  },
  {
   "cell_type": "code",
   "execution_count": 3,
   "metadata": {},
   "outputs": [
    {
     "data": {
      "text/html": [
       "2500"
      ],
      "text/latex": [
       "2500"
      ],
      "text/markdown": [
       "2500"
      ],
      "text/plain": [
       "[1] 2500"
      ]
     },
     "metadata": {},
     "output_type": "display_data"
    }
   ],
   "source": [
    "# Use for loop\n",
    "ans = 0\n",
    "\n",
    "for (i in 1:100) {\n",
    "    if(i %% 2) {\n",
    "        ans = ans + i\n",
    "    }\n",
    "}\n",
    "\n",
    "ans"
   ]
  },
  {
   "cell_type": "code",
   "execution_count": 4,
   "metadata": {},
   "outputs": [
    {
     "data": {
      "text/html": [
       "2500"
      ],
      "text/latex": [
       "2500"
      ],
      "text/markdown": [
       "2500"
      ],
      "text/plain": [
       "[1] 2500"
      ]
     },
     "metadata": {},
     "output_type": "display_data"
    }
   ],
   "source": [
    "# Use while loop\n",
    "ans <- 0\n",
    "count <- 1\n",
    "\n",
    "while (count < 101) {\n",
    "    if (count %% 2 == 1) {\n",
    "        ans = ans + count\n",
    "        count = count + 1\n",
    "    } else {\n",
    "        count = count + 1 # 这个地方是用等于号 还是 <-?\n",
    "    }\n",
    "}\n",
    "\n",
    "ans"
   ]
  },
  {
   "cell_type": "markdown",
   "metadata": {},
   "source": [
    "3. Find the sum of factorial value from 1 to 5"
   ]
  },
  {
   "cell_type": "code",
   "execution_count": 5,
   "metadata": {},
   "outputs": [
    {
     "data": {
      "text/html": [
       "153"
      ],
      "text/latex": [
       "153"
      ],
      "text/markdown": [
       "153"
      ],
      "text/plain": [
       "[1] 153"
      ]
     },
     "metadata": {},
     "output_type": "display_data"
    }
   ],
   "source": [
    "# for loop\n",
    "sum <- 0\n",
    "mul <- 1\n",
    "\n",
    "for (i in 1:5) {\n",
    "    mul = mul * i\n",
    "    sum = mul + sum\n",
    "}\n",
    "\n",
    "sum"
   ]
  },
  {
   "cell_type": "code",
   "execution_count": 6,
   "metadata": {},
   "outputs": [
    {
     "data": {
      "text/html": [
       "153"
      ],
      "text/latex": [
       "153"
      ],
      "text/markdown": [
       "153"
      ],
      "text/plain": [
       "[1] 153"
      ]
     },
     "metadata": {},
     "output_type": "display_data"
    }
   ],
   "source": [
    "# while loop\n",
    "sum <- 0\n",
    "mul <- 1\n",
    "counter <- 1\n",
    "\n",
    "while (counter < 6) {\n",
    "    mul = mul * counter\n",
    "    sum = mul + sum\n",
    "    counter = counter + 1\n",
    "}\n",
    "sum"
   ]
  },
  {
   "cell_type": "markdown",
   "metadata": {},
   "source": [
    "4. Printed Fibonacci sequence number 10"
   ]
  },
  {
   "cell_type": "code",
   "execution_count": 7,
   "metadata": {},
   "outputs": [
    {
     "name": "stdout",
     "output_type": "stream",
     "text": [
      "[1] \"The 10th number is 55\"\n"
     ]
    }
   ],
   "source": [
    "a <- 1\n",
    "b <- 1\n",
    "c <- 0\n",
    "\n",
    "for (i in 1:(10 - 2)) {\n",
    "    c = a + b\n",
    "    a = b\n",
    "    b = c\n",
    "}\n",
    "\n",
    "print(paste(\"The 10th number is\", c))"
   ]
  },
  {
   "cell_type": "markdown",
   "metadata": {},
   "source": [
    "5.Hailstone\n",
    "\n",
    "Douglas Hofstadter's Pulitzer-prize-winning book, Gödel, Escher, Bach, poses the following mathematical puzzle.\n",
    "\n",
    "    Pick a positive integer n as the start.\n",
    "    If n is even, divide it by 2.\n",
    "    If n is odd, multiply it by 3 and add 1.\n",
    "    Continue this process until n is 1.\n"
   ]
  },
  {
   "cell_type": "code",
   "execution_count": 8,
   "metadata": {},
   "outputs": [
    {
     "name": "stdout",
     "output_type": "stream",
     "text": [
      "[1] 5\n",
      "[1] 16\n",
      "[1] 8\n",
      "[1] 4\n",
      "[1] 2\n",
      "[1] 1\n"
     ]
    }
   ],
   "source": [
    "n <- 10\n",
    "\n",
    "while (n != 1) {\n",
    "    if (n %% 2 == 0) {\n",
    "        n = n / 2\n",
    "        print(n)\n",
    "    } else {\n",
    "        n = n * 3 + 1\n",
    "        print(n)\n",
    "    }\n",
    "}"
   ]
  }
 ],
 "metadata": {
  "kernelspec": {
   "display_name": "R",
   "language": "R",
   "name": "ir"
  },
  "language_info": {
   "codemirror_mode": "r",
   "file_extension": ".r",
   "mimetype": "text/x-r-source",
   "name": "R",
   "pygments_lexer": "r",
   "version": "3.4.3"
  }
 },
 "nbformat": 4,
 "nbformat_minor": 2
}
