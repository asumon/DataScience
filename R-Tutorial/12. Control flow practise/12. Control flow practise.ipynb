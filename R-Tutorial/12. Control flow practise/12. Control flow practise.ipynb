{
 "cells": [
  {
   "cell_type": "markdown",
   "metadata": {},
   "source": [
    "# Control flow Parctise\n",
    "---\n",
    "1. Given a positive integer that does not exceed five digits, determine how digits it has, and print out the digits, tens, hundreds, thousands, and tens digits in order.\n",
    "\n",
    "\n",
    "2. Find the sum of all odd numbers within 10\n",
    "\n",
    "\n",
    "3. Find the sum of factorial value from 1 to 5\n",
    "\n",
    "\n",
    "4. Printed Fibonacci sequence number 10\n",
    "\n",
    "\n",
    "5. Hailstone\n",
    "\n",
    "Douglas Hofstadter's Pulitzer-prize-winning book, Gödel, Escher, Bach, poses the following mathematical puzzle.\n",
    "\n",
    "    Pick a positive integer n as the start.\n",
    "    If n is even, divide it by 2.\n",
    "    If n is odd, multiply it by 3 and add 1.\n",
    "    Continue this process until n is 1."
   ]
  }
 ],
 "metadata": {
  "kernelspec": {
   "display_name": "R",
   "language": "R",
   "name": "ir"
  },
  "language_info": {
   "codemirror_mode": "r",
   "file_extension": ".r",
   "mimetype": "text/x-r-source",
   "name": "R",
   "pygments_lexer": "r",
   "version": "3.4.3"
  }
 },
 "nbformat": 4,
 "nbformat_minor": 2
}
