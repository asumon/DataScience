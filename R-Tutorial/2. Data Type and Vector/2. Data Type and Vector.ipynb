{
 "cells": [
  {
   "cell_type": "markdown",
   "metadata": {},
   "source": [
    "# Data Type and Vector\n",
    "---"
   ]
  },
  {
   "cell_type": "markdown",
   "metadata": {},
   "source": [
    "Today we will talk about vector. It is the first data structure we will learn in R, but before we talk about vector, we are starting with data types in vectors."
   ]
  },
  {
   "cell_type": "markdown",
   "metadata": {},
   "source": [
    "**Data Type**:\n",
    "\n",
    "There a six data types in R, which are `Logical`, `Numeric`, `Integer`, `Character`, `Complex`, `Raw`. We will talk about four of them, we do not touch `complex` and a `Raw`.\n",
    "\n",
    "| Data Type | Example                        |\n",
    "| --------- | ------------------------------ |\n",
    "| logical   | TRUE, T, FALSE, F              |\n",
    "| numeric   | 1, 1.1, 1.0                    |\n",
    "| integer   | 1L, 2L, 3L                     |\n",
    "| character | 'Shawn', 'USA', 'Peace', '2.3' |\n",
    "| complex   | 1 + 1i                         |\n",
    "| raw       | charToRaw('Hello World')       |\n",
    "\n",
    "From this table, you could see examples of each type. It is very straightforward but we still have some points worth attention.\n",
    "\n",
    "\n",
    "1. For `logical`, we could use `T `and`F `to replace `TRUE` and `FALSE`"
   ]
  },
  {
   "cell_type": "code",
   "execution_count": 1,
   "metadata": {},
   "outputs": [
    {
     "data": {
      "text/html": [
       "TRUE"
      ],
      "text/latex": [
       "TRUE"
      ],
      "text/markdown": [
       "TRUE"
      ],
      "text/plain": [
       "[1] TRUE"
      ]
     },
     "metadata": {},
     "output_type": "display_data"
    }
   ],
   "source": [
    "TRUE == T"
   ]
  },
  {
   "cell_type": "code",
   "execution_count": 2,
   "metadata": {},
   "outputs": [
    {
     "data": {
      "text/html": [
       "TRUE"
      ],
      "text/latex": [
       "TRUE"
      ],
      "text/markdown": [
       "TRUE"
      ],
      "text/plain": [
       "[1] TRUE"
      ]
     },
     "metadata": {},
     "output_type": "display_data"
    }
   ],
   "source": [
    "FALSE == F"
   ]
  },
  {
   "cell_type": "markdown",
   "metadata": {},
   "source": [
    "2. Some people call `numeric` as `double`.\n",
    "3. You need to add an`L` behind number to create an `integer`. You can do math operation between `numeric` and `integer`."
   ]
  },
  {
   "cell_type": "code",
   "execution_count": 3,
   "metadata": {},
   "outputs": [
    {
     "data": {
      "text/html": [
       "4"
      ],
      "text/latex": [
       "4"
      ],
      "text/markdown": [
       "4"
      ],
      "text/plain": [
       "[1] 4"
      ]
     },
     "metadata": {},
     "output_type": "display_data"
    }
   ],
   "source": [
    "1 + 3L"
   ]
  },
  {
   "cell_type": "code",
   "execution_count": 4,
   "metadata": {},
   "outputs": [
    {
     "data": {
      "text/html": [
       "0.5"
      ],
      "text/latex": [
       "0.5"
      ],
      "text/markdown": [
       "0.5"
      ],
      "text/plain": [
       "[1] 0.5"
      ]
     },
     "metadata": {},
     "output_type": "display_data"
    }
   ],
   "source": [
    "2L / 4"
   ]
  },
  {
   "cell_type": "markdown",
   "metadata": {},
   "source": [
    "4. Use `single quotes` to create a `vector`.\n",
    "5. You could use all math operations for `numeric` and `integer`. \n",
    "\n",
    "So far, we learned the data types in vectors. Now we could start vectors.\n",
    "\n",
    "**Vectors**:\n",
    "We can consider vectors are one dimension array, and there are two kinds of vectors. The one is atomic `vectors`,  and the other one is the`list`.  The items of an atomic vector must be the same type; however the `list` could contain different type items.  In R we need to use `c()` combine function to create atomic vector and `list()` for a list.\n",
    "\n",
    "***Tips***: If you want to know more details about some function, you need to use `help()` function. Take an example: type `help(c)` in your R console, you will find it out.\n"
   ]
  },
  {
   "cell_type": "code",
   "execution_count": 5,
   "metadata": {},
   "outputs": [],
   "source": [
    "v_a <- c(1, 2, 3, 4)\n",
    "v_b <- c(\"We\", \"Love\", \"R\", \"!\")\n",
    "v_c <- list(7, \"is\", \"a\", \"lucky\", \"number\")\n",
    "v_d <- list(1, 2.5, 3L, 'R')"
   ]
  },
  {
   "cell_type": "markdown",
   "metadata": {},
   "source": [
    "We created two atomic vectors and two lists. Both of them have three common properties:\n",
    "\n",
    "1. Type, `typeof()` will tell us what it is.\n",
    "2. Length, `length()` will tell us how many items it contains.\n",
    "3. Attributes, `attributes()`  will show the additional arbitrary metadata.\n",
    "\n",
    "We could use `typeof()` determine the type for a given vector. Also, we could use 'is' function to detect the specific type. R provides following functions: `is.character()`, `is.double()`, `is.integer()`, `is.logical()`, `is.numeric()`,  or, more generally, `is.atomic()` and `is.list()`. \n"
   ]
  },
  {
   "cell_type": "code",
   "execution_count": 6,
   "metadata": {},
   "outputs": [
    {
     "data": {
      "text/html": [
       "'double'"
      ],
      "text/latex": [
       "'double'"
      ],
      "text/markdown": [
       "'double'"
      ],
      "text/plain": [
       "[1] \"double\""
      ]
     },
     "metadata": {},
     "output_type": "display_data"
    }
   ],
   "source": [
    "typeof(v_a)"
   ]
  },
  {
   "cell_type": "code",
   "execution_count": 7,
   "metadata": {},
   "outputs": [
    {
     "data": {
      "text/html": [
       "'list'"
      ],
      "text/latex": [
       "'list'"
      ],
      "text/markdown": [
       "'list'"
      ],
      "text/plain": [
       "[1] \"list\""
      ]
     },
     "metadata": {},
     "output_type": "display_data"
    }
   ],
   "source": [
    "typeof(v_d)"
   ]
  },
  {
   "cell_type": "code",
   "execution_count": 8,
   "metadata": {},
   "outputs": [
    {
     "data": {
      "text/html": [
       "4"
      ],
      "text/latex": [
       "4"
      ],
      "text/markdown": [
       "4"
      ],
      "text/plain": [
       "[1] 4"
      ]
     },
     "metadata": {},
     "output_type": "display_data"
    }
   ],
   "source": [
    "length(v_b)"
   ]
  },
  {
   "cell_type": "code",
   "execution_count": 9,
   "metadata": {},
   "outputs": [
    {
     "data": {
      "text/html": [
       "TRUE"
      ],
      "text/latex": [
       "TRUE"
      ],
      "text/markdown": [
       "TRUE"
      ],
      "text/plain": [
       "[1] TRUE"
      ]
     },
     "metadata": {},
     "output_type": "display_data"
    }
   ],
   "source": [
    "is.character(v_b)"
   ]
  },
  {
   "cell_type": "code",
   "execution_count": 10,
   "metadata": {},
   "outputs": [
    {
     "data": {
      "text/html": [
       "TRUE"
      ],
      "text/latex": [
       "TRUE"
      ],
      "text/markdown": [
       "TRUE"
      ],
      "text/plain": [
       "[1] TRUE"
      ]
     },
     "metadata": {},
     "output_type": "display_data"
    }
   ],
   "source": [
    "is.numeric(v_a)"
   ]
  },
  {
   "cell_type": "code",
   "execution_count": 11,
   "metadata": {},
   "outputs": [
    {
     "data": {
      "text/html": [
       "TRUE"
      ],
      "text/latex": [
       "TRUE"
      ],
      "text/markdown": [
       "TRUE"
      ],
      "text/plain": [
       "[1] TRUE"
      ]
     },
     "metadata": {},
     "output_type": "display_data"
    }
   ],
   "source": [
    "is.atomic(v_a)"
   ]
  },
  {
   "cell_type": "code",
   "execution_count": 12,
   "metadata": {},
   "outputs": [
    {
     "data": {
      "text/html": [
       "FALSE"
      ],
      "text/latex": [
       "FALSE"
      ],
      "text/markdown": [
       "FALSE"
      ],
      "text/plain": [
       "[1] FALSE"
      ]
     },
     "metadata": {},
     "output_type": "display_data"
    }
   ],
   "source": [
    "is.atomic(v_c)"
   ]
  },
  {
   "cell_type": "code",
   "execution_count": 13,
   "metadata": {},
   "outputs": [
    {
     "data": {
      "text/html": [
       "TRUE"
      ],
      "text/latex": [
       "TRUE"
      ],
      "text/markdown": [
       "TRUE"
      ],
      "text/plain": [
       "[1] TRUE"
      ]
     },
     "metadata": {},
     "output_type": "display_data"
    }
   ],
   "source": [
    "is.list(v_c)"
   ]
  },
  {
   "cell_type": "markdown",
   "metadata": {},
   "source": [
    "We give some examples here. Sometimes you will be confused with these functions, but you will know them well when you practice more.\n",
    "\n",
    "However, I still want to mention some points you may be confused with them.\n",
    "\n",
    "1. You cannot use `is.vector()` to distinguish atomic vector and list, because vector and list are both vectors.\n",
    "2. `is.numeric()` will return TRUE when you apply it to `numeric`(or `double`) and the `integer` type.  You may want to use `is.double()` for `numeric`(or `double`) type and `is.integer()` for `integer` type.\n",
    "\n",
    "OK! We finish this lecture, but we do not talk about the **Attributes**, we will cover it when we talk about metric.\n",
    "\n",
    "See you guys next time. :metal:"
   ]
  }
 ],
 "metadata": {
  "kernelspec": {
   "display_name": "R",
   "language": "R",
   "name": "ir"
  },
  "language_info": {
   "codemirror_mode": "r",
   "file_extension": ".r",
   "mimetype": "text/x-r-source",
   "name": "R",
   "pygments_lexer": "r",
   "version": "3.4.3"
  }
 },
 "nbformat": 4,
 "nbformat_minor": 2
}
