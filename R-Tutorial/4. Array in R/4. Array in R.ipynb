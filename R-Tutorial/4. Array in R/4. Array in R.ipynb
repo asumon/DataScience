{
 "cells": [
  {
   "cell_type": "markdown",
   "metadata": {},
   "source": [
    "# Array in R\n",
    "---\n",
    "\n",
    "Today, we will talk about the array. The array is very close to the matrix but can have more than two dimensions.  In other words, the matrix is a particular case of the array. \n",
    "\n",
    "We use `array()` function to create array.  The item in an array should be the same data type. \n",
    "\n",
    "Let's see an example of how to create an array."
   ]
  },
  {
   "cell_type": "code",
   "execution_count": 1,
   "metadata": {},
   "outputs": [],
   "source": [
    "# We created array by following form\n",
    "array_example <- array(data = NA, dim = length(data), dimnames = NULL)\n",
    "\n",
    "array_1 <- array(1:24, dim = c(2, 3, 4))\n",
    "\n",
    "dnames1 <- c('A1', 'A2') \n",
    "dnames2 <- c('B1', 'B2', 'B3')\n",
    "dnames3 <- c('C1', 'C2', 'C3', 'C4')\n",
    "\n",
    "array_2 <- array(1:24, dim = c(2, 3, 4), dimnames = list(dnames1, dnames2, dnames3))"
   ]
  },
  {
   "cell_type": "markdown",
   "metadata": {},
   "source": [
    "```R\n",
    "> array_1\n",
    ", , 1\n",
    "\n",
    "     [,1] [,2] [,3]\n",
    "[1,]    1    3    5\n",
    "[2,]    2    4    6\n",
    "\n",
    ", , 2\n",
    "\n",
    "     [,1] [,2] [,3]\n",
    "[1,]    7    9   11\n",
    "[2,]    8   10   12\n",
    "\n",
    ", , 3\n",
    "\n",
    "     [,1] [,2] [,3]\n",
    "[1,]   13   15   17\n",
    "[2,]   14   16   18\n",
    "\n",
    ", , 4\n",
    "\n",
    "     [,1] [,2] [,3]\n",
    "[1,]   19   21   23\n",
    "[2,]   20   22   24\n",
    "```\n",
    "\n",
    "This array is a basic one, we could find R provides us name for each matrix even we do not set names when we create the array.\n",
    "\n",
    "```R\n",
    "> array_2\n",
    ", , C1\n",
    "\n",
    "   B1 B2 B3\n",
    "A1  1  3  5\n",
    "A2  2  4  6\n",
    "\n",
    ", , C2\n",
    "\n",
    "   B1 B2 B3\n",
    "A1  7  9 11\n",
    "A2  8 10 12\n",
    "\n",
    ", , C3\n",
    "\n",
    "   B1 B2 B3\n",
    "A1 13 15 17\n",
    "A2 14 16 18\n",
    "\n",
    ", , C4\n",
    "\n",
    "   B1 B2 B3\n",
    "A1 19 21 23\n",
    "A2 20 22 24\n",
    "```\n",
    "\n",
    "For this array, we set name for each dimension. \n",
    "\n",
    "We could use `dim()` to check array's shape and use `aperm()` to transpose array. \n",
    "\n",
    "To subsetting array, we could use position to select subset or use names if we set names when we created an array. \n"
   ]
  },
  {
   "cell_type": "code",
   "execution_count": 2,
   "metadata": {},
   "outputs": [
    {
     "data": {
      "text/html": [
       "<table>\n",
       "<thead><tr><th></th><th scope=col>B1</th><th scope=col>B2</th><th scope=col>B3</th></tr></thead>\n",
       "<tbody>\n",
       "\t<tr><th scope=row>A1</th><td>1</td><td>3</td><td>5</td></tr>\n",
       "\t<tr><th scope=row>A2</th><td>2</td><td>4</td><td>6</td></tr>\n",
       "</tbody>\n",
       "</table>\n"
      ],
      "text/latex": [
       "\\begin{tabular}{r|lll}\n",
       "  & B1 & B2 & B3\\\\\n",
       "\\hline\n",
       "\tA1 & 1 & 3 & 5\\\\\n",
       "\tA2 & 2 & 4 & 6\\\\\n",
       "\\end{tabular}\n"
      ],
      "text/markdown": [
       "\n",
       "| <!--/--> | B1 | B2 | B3 | \n",
       "|---|---|\n",
       "| A1 | 1 | 3 | 5 | \n",
       "| A2 | 2 | 4 | 6 | \n",
       "\n",
       "\n"
      ],
      "text/plain": [
       "   B1 B2 B3\n",
       "A1 1  3  5 \n",
       "A2 2  4  6 "
      ]
     },
     "metadata": {},
     "output_type": "display_data"
    }
   ],
   "source": [
    "# Use position to select\n",
    "array_2[, , 1]"
   ]
  },
  {
   "cell_type": "code",
   "execution_count": 3,
   "metadata": {},
   "outputs": [
    {
     "data": {
      "text/html": [
       "<table>\n",
       "<thead><tr><th></th><th scope=col>B1</th><th scope=col>B2</th><th scope=col>B3</th></tr></thead>\n",
       "<tbody>\n",
       "\t<tr><th scope=row>A1</th><td>1</td><td>3</td><td>5</td></tr>\n",
       "\t<tr><th scope=row>A2</th><td>2</td><td>4</td><td>6</td></tr>\n",
       "</tbody>\n",
       "</table>\n"
      ],
      "text/latex": [
       "\\begin{tabular}{r|lll}\n",
       "  & B1 & B2 & B3\\\\\n",
       "\\hline\n",
       "\tA1 & 1 & 3 & 5\\\\\n",
       "\tA2 & 2 & 4 & 6\\\\\n",
       "\\end{tabular}\n"
      ],
      "text/markdown": [
       "\n",
       "| <!--/--> | B1 | B2 | B3 | \n",
       "|---|---|\n",
       "| A1 | 1 | 3 | 5 | \n",
       "| A2 | 2 | 4 | 6 | \n",
       "\n",
       "\n"
      ],
      "text/plain": [
       "   B1 B2 B3\n",
       "A1 1  3  5 \n",
       "A2 2  4  6 "
      ]
     },
     "metadata": {},
     "output_type": "display_data"
    }
   ],
   "source": [
    "# Use name to select\n",
    "array_2[, , 'C1']"
   ]
  },
  {
   "cell_type": "code",
   "execution_count": 4,
   "metadata": {},
   "outputs": [
    {
     "data": {
      "text/html": [
       "<dl class=dl-horizontal>\n",
       "\t<dt>B1</dt>\n",
       "\t\t<dd>1</dd>\n",
       "\t<dt>B2</dt>\n",
       "\t\t<dd>3</dd>\n",
       "\t<dt>B3</dt>\n",
       "\t\t<dd>5</dd>\n",
       "</dl>\n"
      ],
      "text/latex": [
       "\\begin{description*}\n",
       "\\item[B1] 1\n",
       "\\item[B2] 3\n",
       "\\item[B3] 5\n",
       "\\end{description*}\n"
      ],
      "text/markdown": [
       "B1\n",
       ":   1B2\n",
       ":   3B3\n",
       ":   5\n",
       "\n"
      ],
      "text/plain": [
       "B1 B2 B3 \n",
       " 1  3  5 "
      ]
     },
     "metadata": {},
     "output_type": "display_data"
    }
   ],
   "source": [
    "# Nothing is new, the operation is as same as matrix's operation\n",
    "array_2[1, ,1]"
   ]
  },
  {
   "cell_type": "markdown",
   "metadata": {},
   "source": [
    "We finish today's tutorial if we consider matrix is a particular case of an array, so nothing is new today. Next time we will discuss data frame and factor.\n",
    "\n",
    "See you next time!"
   ]
  }
 ],
 "metadata": {
  "kernelspec": {
   "display_name": "R",
   "language": "R",
   "name": "ir"
  },
  "language_info": {
   "codemirror_mode": "r",
   "file_extension": ".r",
   "mimetype": "text/x-r-source",
   "name": "R",
   "pygments_lexer": "r",
   "version": "3.4.3"
  }
 },
 "nbformat": 4,
 "nbformat_minor": 2
}
