{
 "cells": [
  {
   "cell_type": "markdown",
   "metadata": {},
   "source": [
    "# Data frames and factor in R\n",
    "\n",
    "Hi guys, today's topic is Data frames and factor.\n",
    "\n",
    "**Data frames**:\n",
    "\n",
    "Data frames may be the most common data structure we will use.  A data frame could contain different types of data. Each column in the data frame could be any data type, but it must have only one type. \n",
    "\n",
    "We use `data.frame()` to create data frame. Here is the general form.\n",
    "```R\n",
    "df <- data.frame(col1, col2, col3,...)\n",
    "```\n",
    "Now, we create a data frame."
   ]
  },
  {
   "cell_type": "code",
   "execution_count": 1,
   "metadata": {},
   "outputs": [
    {
     "data": {
      "text/html": [
       "<table>\n",
       "<thead><tr><th scope=col>studentID</th><th scope=col>name</th><th scope=col>age</th><th scope=col>gender</th><th scope=col>major</th><th scope=col>GPA</th></tr></thead>\n",
       "<tbody>\n",
       "\t<tr><td>1    </td><td>Shawn</td><td>21   </td><td>M    </td><td>STAT </td><td>3.1  </td></tr>\n",
       "\t<tr><td>2    </td><td>Jack </td><td>22   </td><td>M    </td><td>CS   </td><td>3.2  </td></tr>\n",
       "\t<tr><td>3    </td><td>Peter</td><td>22   </td><td>M    </td><td>EDU  </td><td>3.3  </td></tr>\n",
       "\t<tr><td>4    </td><td>Mary </td><td>19   </td><td>F    </td><td>STAT </td><td>3.4  </td></tr>\n",
       "</tbody>\n",
       "</table>\n"
      ],
      "text/latex": [
       "\\begin{tabular}{r|llllll}\n",
       " studentID & name & age & gender & major & GPA\\\\\n",
       "\\hline\n",
       "\t 1     & Shawn & 21    & M     & STAT  & 3.1  \\\\\n",
       "\t 2     & Jack  & 22    & M     & CS    & 3.2  \\\\\n",
       "\t 3     & Peter & 22    & M     & EDU   & 3.3  \\\\\n",
       "\t 4     & Mary  & 19    & F     & STAT  & 3.4  \\\\\n",
       "\\end{tabular}\n"
      ],
      "text/markdown": [
       "\n",
       "studentID | name | age | gender | major | GPA | \n",
       "|---|---|---|---|\n",
       "| 1     | Shawn | 21    | M     | STAT  | 3.1   | \n",
       "| 2     | Jack  | 22    | M     | CS    | 3.2   | \n",
       "| 3     | Peter | 22    | M     | EDU   | 3.3   | \n",
       "| 4     | Mary  | 19    | F     | STAT  | 3.4   | \n",
       "\n",
       "\n"
      ],
      "text/plain": [
       "  studentID name  age gender major GPA\n",
       "1 1         Shawn 21  M      STAT  3.1\n",
       "2 2         Jack  22  M      CS    3.2\n",
       "3 3         Peter 22  M      EDU   3.3\n",
       "4 4         Mary  19  F      STAT  3.4"
      ]
     },
     "metadata": {},
     "output_type": "display_data"
    }
   ],
   "source": [
    "studentID <- c(1, 2, 3, 4)\n",
    "age <- c(21, 22, 22, 19)\n",
    "major <- c('STAT', 'CS', 'EDU', 'STAT')\n",
    "GPA <- c(3.1, 3.2, 3.3, 3.4)\n",
    "name <- c('Shawn', 'Jack', 'Peter', 'Mary')\n",
    "gender <- c('M', 'M', 'M', 'F')\n",
    "\n",
    "# Create data frae\n",
    "df_1 <- data.frame(studentID, name, age, gender, major, GPA)\n",
    "# We create a same data frame for future use\n",
    "df_2 <- df_1\n",
    "df_1"
   ]
  },
  {
   "cell_type": "markdown",
   "metadata": {},
   "source": [
    "So far, we have a small, simple data frame with only four rows and six columns. This case is rarely happening in our real life. So, if our file is enormous, it will waste a lot of time and memory to check the whole file. What should we do? R provides following functions to help us get a glimpse of the data frame. \n",
    "\n",
    "1. `head()` and `tail()` will help us to check the first and last six rows of the data frame. Six is a default number, and if you want, you could use `head(df, n = 10)` to check the first 10 rows. It is the same story to `tail()` function.\n",
    "2. `str()` will tell us the structure information of data frame. "
   ]
  },
  {
   "cell_type": "code",
   "execution_count": 2,
   "metadata": {},
   "outputs": [
    {
     "name": "stdout",
     "output_type": "stream",
     "text": [
      "'data.frame':\t4 obs. of  6 variables:\n",
      " $ studentID: num  1 2 3 4\n",
      " $ name     : Factor w/ 4 levels \"Jack\",\"Mary\",..: 4 1 3 2\n",
      " $ age      : num  21 22 22 19\n",
      " $ gender   : Factor w/ 2 levels \"F\",\"M\": 2 2 2 1\n",
      " $ major    : Factor w/ 3 levels \"CS\",\"EDU\",\"STAT\": 3 1 2 3\n",
      " $ GPA      : num  3.1 3.2 3.3 3.4\n"
     ]
    }
   ],
   "source": [
    "str(df_1)"
   ]
  },
  {
   "cell_type": "markdown",
   "metadata": {},
   "source": [
    "3.  Use`summary()`  for basic summary information"
   ]
  },
  {
   "cell_type": "code",
   "execution_count": 3,
   "metadata": {},
   "outputs": [
    {
     "data": {
      "text/plain": [
       "   studentID       name        age       gender  major        GPA       \n",
       " Min.   :1.00   Jack :1   Min.   :19.0   F:1    CS  :1   Min.   :3.100  \n",
       " 1st Qu.:1.75   Mary :1   1st Qu.:20.5   M:3    EDU :1   1st Qu.:3.175  \n",
       " Median :2.50   Peter:1   Median :21.5          STAT:2   Median :3.250  \n",
       " Mean   :2.50   Shawn:1   Mean   :21.0                   Mean   :3.250  \n",
       " 3rd Qu.:3.25             3rd Qu.:22.0                   3rd Qu.:3.325  \n",
       " Max.   :4.00             Max.   :22.0                   Max.   :3.400  "
      ]
     },
     "metadata": {},
     "output_type": "display_data"
    }
   ],
   "source": [
    "summary(df_1)"
   ]
  },
  {
   "cell_type": "markdown",
   "metadata": {},
   "source": [
    "**Subset**:\n",
    "\n",
    "Subset for data frame is almost the same way we talked before. Let's check some quick examples.. \n",
    "\n",
    "1. Select row or rows"
   ]
  },
  {
   "cell_type": "code",
   "execution_count": 4,
   "metadata": {},
   "outputs": [
    {
     "data": {
      "text/html": [
       "<table>\n",
       "<thead><tr><th scope=col>studentID</th><th scope=col>name</th><th scope=col>age</th><th scope=col>gender</th><th scope=col>major</th><th scope=col>GPA</th></tr></thead>\n",
       "<tbody>\n",
       "\t<tr><td>1    </td><td>Shawn</td><td>21   </td><td>M    </td><td>STAT </td><td>3.1  </td></tr>\n",
       "</tbody>\n",
       "</table>\n"
      ],
      "text/latex": [
       "\\begin{tabular}{r|llllll}\n",
       " studentID & name & age & gender & major & GPA\\\\\n",
       "\\hline\n",
       "\t 1     & Shawn & 21    & M     & STAT  & 3.1  \\\\\n",
       "\\end{tabular}\n"
      ],
      "text/markdown": [
       "\n",
       "studentID | name | age | gender | major | GPA | \n",
       "|---|\n",
       "| 1     | Shawn | 21    | M     | STAT  | 3.1   | \n",
       "\n",
       "\n"
      ],
      "text/plain": [
       "  studentID name  age gender major GPA\n",
       "1 1         Shawn 21  M      STAT  3.1"
      ]
     },
     "metadata": {},
     "output_type": "display_data"
    }
   ],
   "source": [
    "# select row or rows\n",
    "df_1[1, ]"
   ]
  },
  {
   "cell_type": "code",
   "execution_count": 5,
   "metadata": {},
   "outputs": [
    {
     "data": {
      "text/html": [
       "<table>\n",
       "<thead><tr><th scope=col>studentID</th><th scope=col>name</th><th scope=col>age</th><th scope=col>gender</th><th scope=col>major</th><th scope=col>GPA</th></tr></thead>\n",
       "<tbody>\n",
       "\t<tr><td>1    </td><td>Shawn</td><td>21   </td><td>M    </td><td>STAT </td><td>3.1  </td></tr>\n",
       "\t<tr><td>2    </td><td>Jack </td><td>22   </td><td>M    </td><td>CS   </td><td>3.2  </td></tr>\n",
       "</tbody>\n",
       "</table>\n"
      ],
      "text/latex": [
       "\\begin{tabular}{r|llllll}\n",
       " studentID & name & age & gender & major & GPA\\\\\n",
       "\\hline\n",
       "\t 1     & Shawn & 21    & M     & STAT  & 3.1  \\\\\n",
       "\t 2     & Jack  & 22    & M     & CS    & 3.2  \\\\\n",
       "\\end{tabular}\n"
      ],
      "text/markdown": [
       "\n",
       "studentID | name | age | gender | major | GPA | \n",
       "|---|---|\n",
       "| 1     | Shawn | 21    | M     | STAT  | 3.1   | \n",
       "| 2     | Jack  | 22    | M     | CS    | 3.2   | \n",
       "\n",
       "\n"
      ],
      "text/plain": [
       "  studentID name  age gender major GPA\n",
       "1 1         Shawn 21  M      STAT  3.1\n",
       "2 2         Jack  22  M      CS    3.2"
      ]
     },
     "metadata": {},
     "output_type": "display_data"
    }
   ],
   "source": [
    "df_1[c(1, 2), ]"
   ]
  },
  {
   "cell_type": "markdown",
   "metadata": {},
   "source": [
    "2. Select column or columns. You could use `df + $ + colname` to select one column. "
   ]
  },
  {
   "cell_type": "code",
   "execution_count": 6,
   "metadata": {},
   "outputs": [
    {
     "data": {
      "text/html": [
       "<ol class=list-inline>\n",
       "\t<li>1</li>\n",
       "\t<li>2</li>\n",
       "\t<li>3</li>\n",
       "\t<li>4</li>\n",
       "</ol>\n"
      ],
      "text/latex": [
       "\\begin{enumerate*}\n",
       "\\item 1\n",
       "\\item 2\n",
       "\\item 3\n",
       "\\item 4\n",
       "\\end{enumerate*}\n"
      ],
      "text/markdown": [
       "1. 1\n",
       "2. 2\n",
       "3. 3\n",
       "4. 4\n",
       "\n",
       "\n"
      ],
      "text/plain": [
       "[1] 1 2 3 4"
      ]
     },
     "metadata": {},
     "output_type": "display_data"
    }
   ],
   "source": [
    "#select column or columns\n",
    "df_1$studentID"
   ]
  },
  {
   "cell_type": "code",
   "execution_count": 7,
   "metadata": {},
   "outputs": [
    {
     "data": {
      "text/html": [
       "<ol class=list-inline>\n",
       "\t<li>1</li>\n",
       "\t<li>2</li>\n",
       "\t<li>3</li>\n",
       "\t<li>4</li>\n",
       "</ol>\n"
      ],
      "text/latex": [
       "\\begin{enumerate*}\n",
       "\\item 1\n",
       "\\item 2\n",
       "\\item 3\n",
       "\\item 4\n",
       "\\end{enumerate*}\n"
      ],
      "text/markdown": [
       "1. 1\n",
       "2. 2\n",
       "3. 3\n",
       "4. 4\n",
       "\n",
       "\n"
      ],
      "text/plain": [
       "[1] 1 2 3 4"
      ]
     },
     "metadata": {},
     "output_type": "display_data"
    }
   ],
   "source": [
    "df_1[, 1]"
   ]
  },
  {
   "cell_type": "code",
   "execution_count": 8,
   "metadata": {},
   "outputs": [
    {
     "data": {
      "text/html": [
       "<table>\n",
       "<thead><tr><th scope=col>studentID</th><th scope=col>name</th></tr></thead>\n",
       "<tbody>\n",
       "\t<tr><td>1    </td><td>Shawn</td></tr>\n",
       "\t<tr><td>2    </td><td>Jack </td></tr>\n",
       "\t<tr><td>3    </td><td>Peter</td></tr>\n",
       "\t<tr><td>4    </td><td>Mary </td></tr>\n",
       "</tbody>\n",
       "</table>\n"
      ],
      "text/latex": [
       "\\begin{tabular}{r|ll}\n",
       " studentID & name\\\\\n",
       "\\hline\n",
       "\t 1     & Shawn\\\\\n",
       "\t 2     & Jack \\\\\n",
       "\t 3     & Peter\\\\\n",
       "\t 4     & Mary \\\\\n",
       "\\end{tabular}\n"
      ],
      "text/markdown": [
       "\n",
       "studentID | name | \n",
       "|---|---|---|---|\n",
       "| 1     | Shawn | \n",
       "| 2     | Jack  | \n",
       "| 3     | Peter | \n",
       "| 4     | Mary  | \n",
       "\n",
       "\n"
      ],
      "text/plain": [
       "  studentID name \n",
       "1 1         Shawn\n",
       "2 2         Jack \n",
       "3 3         Peter\n",
       "4 4         Mary "
      ]
     },
     "metadata": {},
     "output_type": "display_data"
    }
   ],
   "source": [
    "df_1[, c(1, 2)]"
   ]
  },
  {
   "cell_type": "markdown",
   "metadata": {},
   "source": [
    "3. Select rows and columns together"
   ]
  },
  {
   "cell_type": "code",
   "execution_count": 9,
   "metadata": {},
   "outputs": [
    {
     "data": {
      "text/html": [
       "<table>\n",
       "<thead><tr><th scope=col>studentID</th><th scope=col>name</th></tr></thead>\n",
       "<tbody>\n",
       "\t<tr><td>1    </td><td>Shawn</td></tr>\n",
       "\t<tr><td>2    </td><td>Jack </td></tr>\n",
       "</tbody>\n",
       "</table>\n"
      ],
      "text/latex": [
       "\\begin{tabular}{r|ll}\n",
       " studentID & name\\\\\n",
       "\\hline\n",
       "\t 1     & Shawn\\\\\n",
       "\t 2     & Jack \\\\\n",
       "\\end{tabular}\n"
      ],
      "text/markdown": [
       "\n",
       "studentID | name | \n",
       "|---|---|\n",
       "| 1     | Shawn | \n",
       "| 2     | Jack  | \n",
       "\n",
       "\n"
      ],
      "text/plain": [
       "  studentID name \n",
       "1 1         Shawn\n",
       "2 2         Jack "
      ]
     },
     "metadata": {},
     "output_type": "display_data"
    }
   ],
   "source": [
    "df_1[c(1, 2), c(1, 2)]"
   ]
  },
  {
   "cell_type": "markdown",
   "metadata": {},
   "source": [
    "4, To select particular rows we need to use `subset()`  for conditional filtering. I will only show a simple example here because we will talk a power package `dplyr` later. This package provides us with a lot of friendly, readable and convenient ways for data manipulation."
   ]
  },
  {
   "cell_type": "code",
   "execution_count": 10,
   "metadata": {},
   "outputs": [
    {
     "data": {
      "text/html": [
       "<table>\n",
       "<thead><tr><th></th><th scope=col>studentID</th><th scope=col>name</th><th scope=col>age</th><th scope=col>gender</th><th scope=col>major</th><th scope=col>GPA</th></tr></thead>\n",
       "<tbody>\n",
       "\t<tr><th scope=row>2</th><td>2    </td><td>Jack </td><td>22   </td><td>M    </td><td>CS   </td><td>3.2  </td></tr>\n",
       "\t<tr><th scope=row>3</th><td>3    </td><td>Peter</td><td>22   </td><td>M    </td><td>EDU  </td><td>3.3  </td></tr>\n",
       "</tbody>\n",
       "</table>\n"
      ],
      "text/latex": [
       "\\begin{tabular}{r|llllll}\n",
       "  & studentID & name & age & gender & major & GPA\\\\\n",
       "\\hline\n",
       "\t2 & 2     & Jack  & 22    & M     & CS    & 3.2  \\\\\n",
       "\t3 & 3     & Peter & 22    & M     & EDU   & 3.3  \\\\\n",
       "\\end{tabular}\n"
      ],
      "text/markdown": [
       "\n",
       "| <!--/--> | studentID | name | age | gender | major | GPA | \n",
       "|---|---|\n",
       "| 2 | 2     | Jack  | 22    | M     | CS    | 3.2   | \n",
       "| 3 | 3     | Peter | 22    | M     | EDU   | 3.3   | \n",
       "\n",
       "\n"
      ],
      "text/plain": [
       "  studentID name  age gender major GPA\n",
       "2 2         Jack  22  M      CS    3.2\n",
       "3 3         Peter 22  M      EDU   3.3"
      ]
     },
     "metadata": {},
     "output_type": "display_data"
    }
   ],
   "source": [
    "# You want to get male student with gpa larger than 3.1\n",
    "subset(df_1, gender == 'M' & GPA > 3.1)"
   ]
  },
  {
   "cell_type": "markdown",
   "metadata": {},
   "source": [
    "**Update data frame**\n",
    "\n",
    "If you have a data frame and you want to update it. R allows you to do it by following ways.\n"
   ]
  },
  {
   "cell_type": "code",
   "execution_count": 11,
   "metadata": {},
   "outputs": [
    {
     "name": "stderr",
     "output_type": "stream",
     "text": [
      "Warning message in `[<-.factor`(`*tmp*`, ri, value = \"Frany\"):\n",
      "“invalid factor level, NA generated”"
     ]
    }
   ],
   "source": [
    "# change one value\n",
    "df_1[1, 6] <- 4.0\n",
    "\n",
    "# add a new column\n",
    "df_1$state <- c('MO', \"IN\", 'CA', 'NY')\n",
    "\n",
    "# delete a column\n",
    "df_1$state <- NULL\n",
    "\n",
    "# delte columns\n",
    "df_1 <- df_1[, -c(6, 5)]\n",
    "\n",
    "# add a new row\n",
    "df_1 <- rbind(df_1, c(5, 'Frany', 25, 'F'))\n",
    "\n",
    "# delete row, delete second and third row\n",
    "df_1 <- df_1[-c(2, 3),]"
   ]
  },
  {
   "cell_type": "markdown",
   "metadata": {},
   "source": [
    "Some points need to pay attention.\n",
    "\n",
    "1. When we try to add a row or column, be careful, the new line should be the same size as your data frame. If not, R will use `NA` to replace missing values. Try following code by yourself. \n",
    "\n",
    "```R\n",
    "> df_1 <- rbind(df_1, c(10, 'Frany'))\n",
    "```\n",
    "2. We use `rbind()` to add a new row. We could understand we are creating new small vector then combine this vector to our data frame by row.  \n",
    "3. If we would like to delete rows or columns, please remember to use `-` before selected rows or columns.\n",
    "\n",
    "So far, we almost finish the basic operation about data frame. I will cover advanced part when we talk about `dplyr` package.  Before we stop, I want to mention that, there is an error in today's code. Let's what is it and how to solve this error.\n",
    "\n",
    "**Factor**:\n",
    "\n",
    "Let's check the error. \n",
    "\n",
    "```R\n",
    "> df_2 <- rbind(df_1, c(5, 'Frany', 25, 'F', 'EE', 2.5))\n",
    "Warning messages:\n",
    "1: In `[<-.factor`(`*tmp*`, ri, value = \"Frany\") :\n",
    "  invalid factor level, NA generated\n",
    "2: In `[<-.factor`(`*tmp*`, ri, value = \"EE\") :\n",
    "  invalid factor level, NA generated\n",
    "```\n",
    "As you have seen here, R return us two errors. `Frany` and `EE`  are invalid factor. What this mean? "
   ]
  },
  {
   "cell_type": "code",
   "execution_count": 12,
   "metadata": {},
   "outputs": [
    {
     "name": "stderr",
     "output_type": "stream",
     "text": [
      "Warning message in `[<-.factor`(`*tmp*`, ri, value = \"Frany\"):\n",
      "“invalid factor level, NA generated”Warning message in `[<-.factor`(`*tmp*`, ri, value = \"EE\"):\n",
      "“invalid factor level, NA generated”"
     ]
    }
   ],
   "source": [
    "df_2 <- rbind(df_2, c(5, 'Frany', 25, 'F', 'EE', 2.5))"
   ]
  },
  {
   "cell_type": "code",
   "execution_count": 13,
   "metadata": {},
   "outputs": [
    {
     "data": {
      "text/html": [
       "<table>\n",
       "<thead><tr><th scope=col>studentID</th><th scope=col>name</th><th scope=col>age</th><th scope=col>gender</th><th scope=col>major</th><th scope=col>GPA</th></tr></thead>\n",
       "<tbody>\n",
       "\t<tr><td>1    </td><td>Shawn</td><td>21   </td><td>M    </td><td>STAT </td><td>3.1  </td></tr>\n",
       "\t<tr><td>2    </td><td>Jack </td><td>22   </td><td>M    </td><td>CS   </td><td>3.2  </td></tr>\n",
       "\t<tr><td>3    </td><td>Peter</td><td>22   </td><td>M    </td><td>EDU  </td><td>3.3  </td></tr>\n",
       "\t<tr><td>4    </td><td>Mary </td><td>19   </td><td>F    </td><td>STAT </td><td>3.4  </td></tr>\n",
       "\t<tr><td>5    </td><td>NA   </td><td>25   </td><td>F    </td><td>NA   </td><td>2.5  </td></tr>\n",
       "</tbody>\n",
       "</table>\n"
      ],
      "text/latex": [
       "\\begin{tabular}{r|llllll}\n",
       " studentID & name & age & gender & major & GPA\\\\\n",
       "\\hline\n",
       "\t 1     & Shawn & 21    & M     & STAT  & 3.1  \\\\\n",
       "\t 2     & Jack  & 22    & M     & CS    & 3.2  \\\\\n",
       "\t 3     & Peter & 22    & M     & EDU   & 3.3  \\\\\n",
       "\t 4     & Mary  & 19    & F     & STAT  & 3.4  \\\\\n",
       "\t 5     & NA    & 25    & F     & NA    & 2.5  \\\\\n",
       "\\end{tabular}\n"
      ],
      "text/markdown": [
       "\n",
       "studentID | name | age | gender | major | GPA | \n",
       "|---|---|---|---|---|\n",
       "| 1     | Shawn | 21    | M     | STAT  | 3.1   | \n",
       "| 2     | Jack  | 22    | M     | CS    | 3.2   | \n",
       "| 3     | Peter | 22    | M     | EDU   | 3.3   | \n",
       "| 4     | Mary  | 19    | F     | STAT  | 3.4   | \n",
       "| 5     | NA    | 25    | F     | NA    | 2.5   | \n",
       "\n",
       "\n"
      ],
      "text/plain": [
       "  studentID name  age gender major GPA\n",
       "1 1         Shawn 21  M      STAT  3.1\n",
       "2 2         Jack  22  M      CS    3.2\n",
       "3 3         Peter 22  M      EDU   3.3\n",
       "4 4         Mary  19  F      STAT  3.4\n",
       "5 5         NA    25  F      NA    2.5"
      ]
     },
     "metadata": {},
     "output_type": "display_data"
    }
   ],
   "source": [
    "df_2"
   ]
  },
  {
   "cell_type": "markdown",
   "metadata": {},
   "source": [
    "R set name, gender, and major as factor. If something we want to add to these three columns which are not included in original factors, R will use NA to replace it.  Before we solve this problem, we need to figure out what factor is?\n",
    "\n",
    "First, what is the factor? We could understand the factor in this way. Usually, the variables could be treated as two different types generally which are continuously variable and categorical variable. \n",
    "\n",
    "> A **categorical variable** is a variable that can take on one of a limited, and usually fixed, number of possible values, assigning each individual or other unit of observation to a particular group or nominal category on the basis of some qualitative property. \n",
    ">\n",
    "> -- Wikipedia\n",
    "\n",
    "We use some examples to help us to understand categorical variable. \n",
    "\n",
    "1. Usually, we treat gender as two categories, such as Male and Female.\n",
    "2. Sometimes, we will split age into some categories, teenage, youth, adult and, old man.\n",
    "3. If you want to buy a new cell phone. All brands are categorical data. Such as apple, Samsang, Xiaomi, OnePlus and so on. \n",
    "\n",
    "Now, you could figure out what is categorical variable. You may also notice that some categorical variables have an order but rest are not. For `gender` , Male and Female are same, they do not have an order. However, for `age`, it has  a order like  $teenage < youth < adult < old man$. It depends on your analysis goal and questions to decide whether or not set a variable as a categorical variable.\n",
    "\n",
    "In R we use `factor()` to create factor data."
   ]
  },
  {
   "cell_type": "code",
   "execution_count": 14,
   "metadata": {},
   "outputs": [],
   "source": [
    "# data without order\n",
    "cella <- c('Male', 'Femal')\n",
    "gender <- factor(cella, ordered = FALSE)\n",
    "# data withe order\n",
    "cellb <- c('Bachelor', 'Master', \"Ph.D\")\n",
    "degree <- factor(cellb, ordered = TRUE)"
   ]
  },
  {
   "cell_type": "code",
   "execution_count": 15,
   "metadata": {},
   "outputs": [
    {
     "data": {
      "text/html": [
       "<ol class=list-inline>\n",
       "\t<li>Male</li>\n",
       "\t<li>Femal</li>\n",
       "</ol>\n",
       "\n",
       "<details>\n",
       "\t<summary style=display:list-item;cursor:pointer>\n",
       "\t\t<strong>Levels</strong>:\n",
       "\t</summary>\n",
       "\t<ol class=list-inline>\n",
       "\t\t<li>'Femal'</li>\n",
       "\t\t<li>'Male'</li>\n",
       "\t</ol>\n",
       "</details>"
      ],
      "text/latex": [
       "\\begin{enumerate*}\n",
       "\\item Male\n",
       "\\item Femal\n",
       "\\end{enumerate*}\n",
       "\n",
       "\\emph{Levels}: \\begin{enumerate*}\n",
       "\\item 'Femal'\n",
       "\\item 'Male'\n",
       "\\end{enumerate*}\n"
      ],
      "text/markdown": [
       "1. Male\n",
       "2. Femal\n",
       "\n",
       "\n",
       "\n",
       "**Levels**: 1. 'Femal'\n",
       "2. 'Male'\n",
       "\n",
       "\n"
      ],
      "text/plain": [
       "[1] Male  Femal\n",
       "Levels: Femal Male"
      ]
     },
     "metadata": {},
     "output_type": "display_data"
    }
   ],
   "source": [
    "gender"
   ]
  },
  {
   "cell_type": "code",
   "execution_count": 16,
   "metadata": {},
   "outputs": [
    {
     "data": {
      "text/html": [
       "<ol class=list-inline>\n",
       "\t<li>Bachelor</li>\n",
       "\t<li>Master</li>\n",
       "\t<li>Ph.D</li>\n",
       "</ol>\n",
       "\n",
       "<details>\n",
       "\t<summary style=display:list-item;cursor:pointer>\n",
       "\t\t<strong>Levels</strong>:\n",
       "\t</summary>\n",
       "\t<ol class=list-inline>\n",
       "\t\t<li>'Bachelor'</li>\n",
       "\t\t<li>'Master'</li>\n",
       "\t\t<li>'Ph.D'</li>\n",
       "\t</ol>\n",
       "</details>"
      ],
      "text/latex": [
       "\\begin{enumerate*}\n",
       "\\item Bachelor\n",
       "\\item Master\n",
       "\\item Ph.D\n",
       "\\end{enumerate*}\n",
       "\n",
       "\\emph{Levels}: \\begin{enumerate*}\n",
       "\\item 'Bachelor'\n",
       "\\item 'Master'\n",
       "\\item 'Ph.D'\n",
       "\\end{enumerate*}\n"
      ],
      "text/markdown": [
       "1. Bachelor\n",
       "2. Master\n",
       "3. Ph.D\n",
       "\n",
       "\n",
       "\n",
       "**Levels**: 1. 'Bachelor'\n",
       "2. 'Master'\n",
       "3. 'Ph.D'\n",
       "\n",
       "\n"
      ],
      "text/plain": [
       "[1] Bachelor Master   Ph.D    \n",
       "Levels: Bachelor < Master < Ph.D"
      ]
     },
     "metadata": {},
     "output_type": "display_data"
    }
   ],
   "source": [
    "degree"
   ]
  },
  {
   "cell_type": "markdown",
   "metadata": {},
   "source": [
    "We could find, if we set `order = TRUE`, the R will show us an order.  Here the order is the default which based on position. If you want to set your order, you could use the following method."
   ]
  },
  {
   "cell_type": "code",
   "execution_count": 17,
   "metadata": {},
   "outputs": [
    {
     "data": {
      "text/html": [
       "<ol class=list-inline>\n",
       "\t<li>Samsung</li>\n",
       "\t<li>Apple</li>\n",
       "\t<li>Xiaomi</li>\n",
       "\t<li>OnePlus</li>\n",
       "</ol>\n",
       "\n",
       "<details>\n",
       "\t<summary style=display:list-item;cursor:pointer>\n",
       "\t\t<strong>Levels</strong>:\n",
       "\t</summary>\n",
       "\t<ol class=list-inline>\n",
       "\t\t<li>'Apple'</li>\n",
       "\t\t<li>'Xiaomi'</li>\n",
       "\t\t<li>'Samsung'</li>\n",
       "\t\t<li>'OnePlus'</li>\n",
       "\t</ol>\n",
       "</details>"
      ],
      "text/latex": [
       "\\begin{enumerate*}\n",
       "\\item Samsung\n",
       "\\item Apple\n",
       "\\item Xiaomi\n",
       "\\item OnePlus\n",
       "\\end{enumerate*}\n",
       "\n",
       "\\emph{Levels}: \\begin{enumerate*}\n",
       "\\item 'Apple'\n",
       "\\item 'Xiaomi'\n",
       "\\item 'Samsung'\n",
       "\\item 'OnePlus'\n",
       "\\end{enumerate*}\n"
      ],
      "text/markdown": [
       "1. Samsung\n",
       "2. Apple\n",
       "3. Xiaomi\n",
       "4. OnePlus\n",
       "\n",
       "\n",
       "\n",
       "**Levels**: 1. 'Apple'\n",
       "2. 'Xiaomi'\n",
       "3. 'Samsung'\n",
       "4. 'OnePlus'\n",
       "\n",
       "\n"
      ],
      "text/plain": [
       "[1] Samsung Apple   Xiaomi  OnePlus\n",
       "Levels: Apple < Xiaomi < Samsung < OnePlus"
      ]
     },
     "metadata": {},
     "output_type": "display_data"
    }
   ],
   "source": [
    "# data with own order\n",
    "cellc <- c('Samsung', 'Apple', 'Xiaomi', 'OnePlus')\n",
    "phone <- factor(cellc, ordered = TRUE, levels = c('Apple', 'Xiaomi', 'Samsung', 'OnePlus'))\n",
    "phone"
   ]
  },
  {
   "cell_type": "markdown",
   "metadata": {},
   "source": [
    "Sometimes, we already have a certain level, in this case, we could combine `factor()` and `level()`to do something interesting. "
   ]
  },
  {
   "cell_type": "code",
   "execution_count": 18,
   "metadata": {},
   "outputs": [
    {
     "data": {
      "text/html": [
       "<ol class=list-inline>\n",
       "\t<li>I</li>\n",
       "\t<li>III</li>\n",
       "\t<li>II</li>\n",
       "\t<li>III</li>\n",
       "\t<li>III</li>\n",
       "\t<li>III</li>\n",
       "\t<li>II</li>\n",
       "\t<li>II</li>\n",
       "\t<li>I</li>\n",
       "\t<li>III</li>\n",
       "\t<li>II</li>\n",
       "\t<li>I</li>\n",
       "</ol>\n",
       "\n",
       "<details>\n",
       "\t<summary style=display:list-item;cursor:pointer>\n",
       "\t\t<strong>Levels</strong>:\n",
       "\t</summary>\n",
       "\t<ol class=list-inline>\n",
       "\t\t<li>'I'</li>\n",
       "\t\t<li>'II'</li>\n",
       "\t\t<li>'III'</li>\n",
       "\t</ol>\n",
       "</details>"
      ],
      "text/latex": [
       "\\begin{enumerate*}\n",
       "\\item I\n",
       "\\item III\n",
       "\\item II\n",
       "\\item III\n",
       "\\item III\n",
       "\\item III\n",
       "\\item II\n",
       "\\item II\n",
       "\\item I\n",
       "\\item III\n",
       "\\item II\n",
       "\\item I\n",
       "\\end{enumerate*}\n",
       "\n",
       "\\emph{Levels}: \\begin{enumerate*}\n",
       "\\item 'I'\n",
       "\\item 'II'\n",
       "\\item 'III'\n",
       "\\end{enumerate*}\n"
      ],
      "text/markdown": [
       "1. I\n",
       "2. III\n",
       "3. II\n",
       "4. III\n",
       "5. III\n",
       "6. III\n",
       "7. II\n",
       "8. II\n",
       "9. I\n",
       "10. III\n",
       "11. II\n",
       "12. I\n",
       "\n",
       "\n",
       "\n",
       "**Levels**: 1. 'I'\n",
       "2. 'II'\n",
       "3. 'III'\n",
       "\n",
       "\n"
      ],
      "text/plain": [
       " [1] I   III II  III III III II  II  I   III II  I  \n",
       "Levels: I II III"
      ]
     },
     "metadata": {},
     "output_type": "display_data"
    }
   ],
   "source": [
    "celld <- c(1, 3, 2, 3, 3, 3, 2, 2, 1, 3, 2, 1)\n",
    "fdata <- factor(celld)\n",
    "levels(fdata) <- c('I', 'II', 'III')\n",
    "fdata"
   ]
  },
  {
   "cell_type": "markdown",
   "metadata": {},
   "source": [
    "See, we the transfer `double` data to the `factor` data. This method will help us save a lot of time if we want to input a tremendous amount of categorical data. \n",
    "\n",
    "Here are basic operations about `factor\t` in R. Last thing we need to pay attention before we solve the error.  When we create a data frame, R will consider character as factor.  In this case, if we want to add a new item to these variables, this item should be an exit at the original level. "
   ]
  },
  {
   "cell_type": "code",
   "execution_count": 19,
   "metadata": {},
   "outputs": [
    {
     "data": {
      "text/html": [
       "<ol class=list-inline>\n",
       "\t<li>a</li>\n",
       "\t<li>b</li>\n",
       "\t<li>c</li>\n",
       "</ol>\n",
       "\n",
       "<details>\n",
       "\t<summary style=display:list-item;cursor:pointer>\n",
       "\t\t<strong>Levels</strong>:\n",
       "\t</summary>\n",
       "\t<ol class=list-inline>\n",
       "\t\t<li>'a'</li>\n",
       "\t\t<li>'b'</li>\n",
       "\t\t<li>'c'</li>\n",
       "\t</ol>\n",
       "</details>"
      ],
      "text/latex": [
       "\\begin{enumerate*}\n",
       "\\item a\n",
       "\\item b\n",
       "\\item c\n",
       "\\end{enumerate*}\n",
       "\n",
       "\\emph{Levels}: \\begin{enumerate*}\n",
       "\\item 'a'\n",
       "\\item 'b'\n",
       "\\item 'c'\n",
       "\\end{enumerate*}\n"
      ],
      "text/markdown": [
       "1. a\n",
       "2. b\n",
       "3. c\n",
       "\n",
       "\n",
       "\n",
       "**Levels**: 1. 'a'\n",
       "2. 'b'\n",
       "3. 'c'\n",
       "\n",
       "\n"
      ],
      "text/plain": [
       "[1] a b c\n",
       "Levels: a b c"
      ]
     },
     "metadata": {},
     "output_type": "display_data"
    }
   ],
   "source": [
    "test <- factor(c('a', 'b', 'c'))\n",
    "test"
   ]
  },
  {
   "cell_type": "code",
   "execution_count": 20,
   "metadata": {},
   "outputs": [
    {
     "name": "stderr",
     "output_type": "stream",
     "text": [
      "Warning message in `[<-.factor`(`*tmp*`, 4, value = \"d\"):\n",
      "“invalid factor level, NA generated”"
     ]
    }
   ],
   "source": [
    "# Try to add a new item\n",
    "test[4] <- 'd' "
   ]
  },
  {
   "cell_type": "code",
   "execution_count": 21,
   "metadata": {},
   "outputs": [
    {
     "data": {
      "text/html": [
       "<ol class=list-inline>\n",
       "\t<li>a</li>\n",
       "\t<li>b</li>\n",
       "\t<li>c</li>\n",
       "\t<li>&lt;NA&gt;</li>\n",
       "</ol>\n",
       "\n",
       "<details>\n",
       "\t<summary style=display:list-item;cursor:pointer>\n",
       "\t\t<strong>Levels</strong>:\n",
       "\t</summary>\n",
       "\t<ol class=list-inline>\n",
       "\t\t<li>'a'</li>\n",
       "\t\t<li>'b'</li>\n",
       "\t\t<li>'c'</li>\n",
       "\t</ol>\n",
       "</details>"
      ],
      "text/latex": [
       "\\begin{enumerate*}\n",
       "\\item a\n",
       "\\item b\n",
       "\\item c\n",
       "\\item <NA>\n",
       "\\end{enumerate*}\n",
       "\n",
       "\\emph{Levels}: \\begin{enumerate*}\n",
       "\\item 'a'\n",
       "\\item 'b'\n",
       "\\item 'c'\n",
       "\\end{enumerate*}\n"
      ],
      "text/markdown": [
       "1. a\n",
       "2. b\n",
       "3. c\n",
       "4. &lt;NA&gt;\n",
       "\n",
       "\n",
       "\n",
       "**Levels**: 1. 'a'\n",
       "2. 'b'\n",
       "3. 'c'\n",
       "\n",
       "\n"
      ],
      "text/plain": [
       "[1] a    b    c    <NA>\n",
       "Levels: a b c"
      ]
     },
     "metadata": {},
     "output_type": "display_data"
    }
   ],
   "source": [
    "# R use NA to replace\n",
    "test"
   ]
  },
  {
   "cell_type": "code",
   "execution_count": 22,
   "metadata": {},
   "outputs": [
    {
     "data": {
      "text/html": [
       "<ol class=list-inline>\n",
       "\t<li>a</li>\n",
       "\t<li>b</li>\n",
       "\t<li>c</li>\n",
       "\t<li>&lt;NA&gt;</li>\n",
       "\t<li>a</li>\n",
       "</ol>\n",
       "\n",
       "<details>\n",
       "\t<summary style=display:list-item;cursor:pointer>\n",
       "\t\t<strong>Levels</strong>:\n",
       "\t</summary>\n",
       "\t<ol class=list-inline>\n",
       "\t\t<li>'a'</li>\n",
       "\t\t<li>'b'</li>\n",
       "\t\t<li>'c'</li>\n",
       "\t</ol>\n",
       "</details>"
      ],
      "text/latex": [
       "\\begin{enumerate*}\n",
       "\\item a\n",
       "\\item b\n",
       "\\item c\n",
       "\\item <NA>\n",
       "\\item a\n",
       "\\end{enumerate*}\n",
       "\n",
       "\\emph{Levels}: \\begin{enumerate*}\n",
       "\\item 'a'\n",
       "\\item 'b'\n",
       "\\item 'c'\n",
       "\\end{enumerate*}\n"
      ],
      "text/markdown": [
       "1. a\n",
       "2. b\n",
       "3. c\n",
       "4. &lt;NA&gt;\n",
       "5. a\n",
       "\n",
       "\n",
       "\n",
       "**Levels**: 1. 'a'\n",
       "2. 'b'\n",
       "3. 'c'\n",
       "\n",
       "\n"
      ],
      "text/plain": [
       "[1] a    b    c    <NA> a   \n",
       "Levels: a b c"
      ]
     },
     "metadata": {},
     "output_type": "display_data"
    }
   ],
   "source": [
    "# add an item already existed in original factor level\n",
    "test[5] <- 'a'\n",
    "test"
   ]
  },
  {
   "cell_type": "markdown",
   "metadata": {},
   "source": [
    "Now, we know the reason for the error and need to transfer factor to character then we could add a new item. The`as.character()` function coulde help us.."
   ]
  },
  {
   "cell_type": "code",
   "execution_count": 23,
   "metadata": {},
   "outputs": [
    {
     "data": {
      "text/html": [
       "<table>\n",
       "<thead><tr><th scope=col>studentID</th><th scope=col>name</th><th scope=col>age</th><th scope=col>gender</th><th scope=col>major</th><th scope=col>GPA</th></tr></thead>\n",
       "<tbody>\n",
       "\t<tr><td>1    </td><td>Shawn</td><td>21   </td><td>M    </td><td>STAT </td><td>3.1  </td></tr>\n",
       "\t<tr><td>2    </td><td>Jack </td><td>22   </td><td>M    </td><td>CS   </td><td>3.2  </td></tr>\n",
       "\t<tr><td>3    </td><td>Peter</td><td>22   </td><td>M    </td><td>EDU  </td><td>3.3  </td></tr>\n",
       "\t<tr><td>4    </td><td>Mary </td><td>19   </td><td>F    </td><td>STAT </td><td>3.4  </td></tr>\n",
       "\t<tr><td>5    </td><td>NA   </td><td>25   </td><td>F    </td><td>NA   </td><td>2.5  </td></tr>\n",
       "</tbody>\n",
       "</table>\n"
      ],
      "text/latex": [
       "\\begin{tabular}{r|llllll}\n",
       " studentID & name & age & gender & major & GPA\\\\\n",
       "\\hline\n",
       "\t 1     & Shawn & 21    & M     & STAT  & 3.1  \\\\\n",
       "\t 2     & Jack  & 22    & M     & CS    & 3.2  \\\\\n",
       "\t 3     & Peter & 22    & M     & EDU   & 3.3  \\\\\n",
       "\t 4     & Mary  & 19    & F     & STAT  & 3.4  \\\\\n",
       "\t 5     & NA    & 25    & F     & NA    & 2.5  \\\\\n",
       "\\end{tabular}\n"
      ],
      "text/markdown": [
       "\n",
       "studentID | name | age | gender | major | GPA | \n",
       "|---|---|---|---|---|\n",
       "| 1     | Shawn | 21    | M     | STAT  | 3.1   | \n",
       "| 2     | Jack  | 22    | M     | CS    | 3.2   | \n",
       "| 3     | Peter | 22    | M     | EDU   | 3.3   | \n",
       "| 4     | Mary  | 19    | F     | STAT  | 3.4   | \n",
       "| 5     | NA    | 25    | F     | NA    | 2.5   | \n",
       "\n",
       "\n"
      ],
      "text/plain": [
       "  studentID name  age gender major GPA\n",
       "1 1         Shawn 21  M      STAT  3.1\n",
       "2 2         Jack  22  M      CS    3.2\n",
       "3 3         Peter 22  M      EDU   3.3\n",
       "4 4         Mary  19  F      STAT  3.4\n",
       "5 5         NA    25  F      NA    2.5"
      ]
     },
     "metadata": {},
     "output_type": "display_data"
    }
   ],
   "source": [
    "df_2"
   ]
  },
  {
   "cell_type": "code",
   "execution_count": 24,
   "metadata": {},
   "outputs": [
    {
     "name": "stdout",
     "output_type": "stream",
     "text": [
      "'data.frame':\t6 obs. of  6 variables:\n",
      " $ studentID: chr  \"1\" \"2\" \"3\" \"4\" ...\n",
      " $ name     : chr  \"Shawn\" \"Jack\" \"Peter\" \"Mary\" ...\n",
      " $ age      : chr  \"21\" \"22\" \"22\" \"19\" ...\n",
      " $ gender   : Factor w/ 2 levels \"F\",\"M\": 2 2 2 1 1 2\n",
      " $ major    : chr  \"STAT\" \"CS\" \"EDU\" \"STAT\" ...\n",
      " $ GPA      : chr  \"3.1\" \"3.2\" \"3.3\" \"3.4\" ...\n"
     ]
    }
   ],
   "source": [
    "df_2$name <- as.character(df_2$name)\n",
    "df_2$major <- as.character((df_2$major))\n",
    "df_2 <- rbind(df_2, c(6, 'Jack', 25, 'M', 'EE', 2.5))\n",
    "# Use str() to check structure information again\n",
    "str(df_2)"
   ]
  },
  {
   "cell_type": "code",
   "execution_count": 25,
   "metadata": {},
   "outputs": [
    {
     "data": {
      "text/html": [
       "<table>\n",
       "<thead><tr><th></th><th scope=col>studentID</th><th scope=col>name</th><th scope=col>age</th><th scope=col>gender</th><th scope=col>major</th><th scope=col>GPA</th></tr></thead>\n",
       "<tbody>\n",
       "\t<tr><th scope=row>6</th><td>6   </td><td>Jack</td><td>25  </td><td>M   </td><td>EE  </td><td>2.5 </td></tr>\n",
       "</tbody>\n",
       "</table>\n"
      ],
      "text/latex": [
       "\\begin{tabular}{r|llllll}\n",
       "  & studentID & name & age & gender & major & GPA\\\\\n",
       "\\hline\n",
       "\t6 & 6    & Jack & 25   & M    & EE   & 2.5 \\\\\n",
       "\\end{tabular}\n"
      ],
      "text/markdown": [
       "\n",
       "| <!--/--> | studentID | name | age | gender | major | GPA | \n",
       "|---|\n",
       "| 6 | 6    | Jack | 25   | M    | EE   | 2.5  | \n",
       "\n",
       "\n"
      ],
      "text/plain": [
       "  studentID name age gender major GPA\n",
       "6 6         Jack 25  M      EE    2.5"
      ]
     },
     "metadata": {},
     "output_type": "display_data"
    }
   ],
   "source": [
    "# We are successful add a new row without missing values\n",
    "df_2[6, ]"
   ]
  },
  {
   "cell_type": "markdown",
   "metadata": {},
   "source": [
    "OK, we solved the error and finished this tutorial.\n",
    "\n",
    "Next time, we will talk about the `list` in R, it will be short.\n",
    "\n",
    "See you!"
   ]
  }
 ],
 "metadata": {
  "kernelspec": {
   "display_name": "R",
   "language": "R",
   "name": "ir"
  },
  "language_info": {
   "codemirror_mode": "r",
   "file_extension": ".r",
   "mimetype": "text/x-r-source",
   "name": "R",
   "pygments_lexer": "r",
   "version": "3.4.3"
  }
 },
 "nbformat": 4,
 "nbformat_minor": 2
}
