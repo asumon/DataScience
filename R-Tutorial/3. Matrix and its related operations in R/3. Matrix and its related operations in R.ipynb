{
 "cells": [
  {
   "cell_type": "markdown",
   "metadata": {},
   "source": [
    "# Matrix and its related operations in R\n",
    "---\n",
    "We will talk about the matrix and its related operations in R today. Matrix is essential in statistics. In this tutorial, I assumed you have linear algebra background, we will not talk it too much ,but we will cover some basic ideas. \n",
    "\n",
    "So, what is the matrix?\n",
    "\n",
    "> A matrix is a two-dimensional array where each element has the same mode (numeric, character, or logical). Matrices are created with the matrix function. -*R in Action*\n",
    "\n",
    "There is a simple matrix will help us have a better understanding. \n",
    "$$\n",
    "\\begin{matrix}1 & 2  & 3  \\\\ 4 & 5 & 6\\end{matrix}\n",
    "$$\n",
    "For this matrix, it has two tows and three columns which means this matrix's dimensions(some people use shape for it) is $(2\\times3)$ or $(2, 3)$. \n",
    "\n",
    "For each value element in a matrix, it will have a unique location to find it. Take an example the location for `2`.  `2` is in the first row and second column, so its location is $(1, 2)$. For `6`, the location is $(2, 3)$.  We describe row first.\n",
    "\n",
    "Now we could start to build a matrix in R, here are two examples. "
   ]
  },
  {
   "cell_type": "code",
   "execution_count": 1,
   "metadata": {},
   "outputs": [],
   "source": [
    "# Build matrix directly\n",
    "mymatrix_1 <- matrix(data = 1:20, nrow = 4, ncol = 5, byrow = FALSE, dimnames = NULL)\n",
    "\n",
    "cell <- c(1:20)\n",
    "rnames <- c('r1', 'r2', 'r3', 'r4', 'r5')\n",
    "cnames <- c('c1', 'c2', 'c3', 'c4')\n",
    "\n",
    "mymatrix_2 <- matrix(data = cell, nrow = 5, byrow = TRUE, dimnames = list(rnames, cnames))"
   ]
  },
  {
   "cell_type": "markdown",
   "metadata": {},
   "source": [
    "***Tips***: use help(matrix) to get more details about `matrix` function.\n",
    "\n",
    "I built two matrices, for `mymatrix_1`, I set numbers for `nrow` and `ncol`.  For `mymatrix_2`, I just set `nrow`,  R will calculate the rest one if we define one of `nrow` or `ncol`. \n",
    "\n",
    "```R\n",
    "> mymatrix_1\n",
    "     [,1] [,2] [,3] [,4] [,5]\n",
    "[1,]    1    5    9   13   17\n",
    "[2,]    2    6   10   14   18\n",
    "[3,]    3    7   11   15   19\n",
    "[4,]    4    8   12   16   20\n",
    "\n",
    "> mymatrix_2\n",
    "   c1 c2 c3 c4\n",
    "r1  1  2  3  4\n",
    "r2  5  6  7  8\n",
    "r3  9 10 11 12\n",
    "r4 13 14 15 16\n",
    "r5 17 18 19 20\n",
    "```\n",
    "\n",
    "I did not assign row and column names for`mymatrix_1`, but you could see R provides the index information for us, we could quickly tell the location of any element in the matrix. For `mymatrix_2`  we could find the column and row names replaced the index. \n",
    "\n",
    "We are interested in some elements sometimes, how could we do this? We could identify any row, column or element by using subscripts and brackets. $x[i,]$ refers $i$th row in matrix `x`,  $x[,j]$ refers $j$th column in `x`. If we want to select multiple rows or columns, we could use $x[a:b, ]$ or  $x[, c:d]$ to do this.  You could combine them, $x[a:b, c:d]$ will select the elements from `row a` to `row b` and `column c` to `column d`.  Let's see some examples.\n",
    "\n",
    "```R\n",
    "> mymatrix_1[1, ]\n",
    "[1]  1  5  9 13 17\n",
    "\n",
    "> mymatrix_1[1: 3, ]\n",
    "     [,1] [,2] [,3] [,4] [,5]\n",
    "[1,]    1    5    9   13   17\n",
    "[2,]    2    6   10   14   18\n",
    "[3,]    3    7   11   15   19\n",
    "\n",
    "> mymatrix_1[, 2]\n",
    "[1] 5 6 7 8\n",
    "\n",
    "> mymatrix_1[, 2: 3]\n",
    "     [,1] [,2]\n",
    "[1,]    5    9\n",
    "[2,]    6   10\n",
    "[3,]    7   11\n",
    "[4,]    8   12\n",
    "\n",
    "> mymatrix_1[1:2, 2:3]\n",
    "     [,1] [,2]\n",
    "[1,]    5    9\n",
    "[2,]    6   10\n",
    "```\n",
    "\n",
    "For `mymatrix_2` we could use row and column names to select elements."
   ]
  },
  {
   "cell_type": "code",
   "execution_count": 2,
   "metadata": {},
   "outputs": [
    {
     "data": {
      "text/html": [
       "5"
      ],
      "text/latex": [
       "5"
      ],
      "text/markdown": [
       "5"
      ],
      "text/plain": [
       "[1] 5"
      ]
     },
     "metadata": {},
     "output_type": "display_data"
    }
   ],
   "source": [
    "mymatrix_2[c('r2'), c('c1')]"
   ]
  },
  {
   "cell_type": "markdown",
   "metadata": {},
   "source": [
    "The data types we talked last time, They all could put in a matrix.\n",
    "\n",
    "So far, we already know some fundamental thing about the matrix. Next, we discuss the math operation about the matrix. This part, we only cover linear algebra a little bit. To have a clear view of this part, we define two matrices first."
   ]
  },
  {
   "cell_type": "code",
   "execution_count": 3,
   "metadata": {},
   "outputs": [],
   "source": [
    "m1 <- matrix(1:4, 2, 2, byrow = F)\n",
    "m2 <- matrix(5:8, 2, 2, byrow = F)"
   ]
  },
  {
   "cell_type": "markdown",
   "metadata": {},
   "source": [
    "```R\n",
    "# Build m1 and m2\n",
    "> m1\n",
    "     [,1] [,2]\n",
    "[1,]    1    3\n",
    "[2,]    2    4\n",
    "\n",
    "> m2\n",
    "     [,1] [,2]\n",
    "[1,]    5    7\n",
    "[2,]    6    8\n",
    "# Basic math operation in matrix\n",
    "> m1 - m2\n",
    "     [,1] [,2]\n",
    "[1,]   -4   -4\n",
    "[2,]   -4   -4\n",
    "> m1 + m2\n",
    "     [,1] [,2]\n",
    "[1,]    6   10\n",
    "[2,]    8   12\n",
    "> m1 / m2\n",
    "          [,1]      [,2]\n",
    "[1,] 0.2000000 0.4285714\n",
    "[2,] 0.3333333 0.5000000\n",
    "#Element-wise multiplication\n",
    "> m1 * m2\n",
    "     [,1] [,2]\n",
    "[1,]    5   21\n",
    "[2,]   12   32\n",
    "#Matrix multiplication\n",
    "> m1 %*% m2\n",
    "     [,1] [,2]\n",
    "[1,]   23   31\n",
    "[2,]   34   46\n",
    "#Transpose\n",
    "> t(m1)\n",
    "     [,1] [,2]\n",
    "[1,]    1    2\n",
    "[2,]    3    4\n",
    "#Inverse of matrix where matrix is a square matrix.\n",
    "> solve(m1)\n",
    "     [,1] [,2]\n",
    "[1,]   -2  1.5\n",
    "[2,]    1 -0.5\n",
    "```\n",
    "\n",
    "Here is a link with more details about [matrix operations](https://www.statmethods.net/advstats/matrix.html). If you do not understand this math, here is a tutorial from [Stanford CS229](http://cs229.stanford.edu/section/cs229-linalg.pdf), so far you need to read page 2 to page 8. Math may be a little bit boring, but you need it when you want to explore more in the data science area.\n",
    "\n",
    "One point I would like to mention this time, $m1 * m2$ and $m1\\cdot m2$ (`m1 %*% m2`) are fundamentally different. Let's see two simple examples.\n",
    "```R\n",
    "> m1 * m2\n",
    "     [,1] [,2]\n",
    "[1,]    5   21\n",
    "[2,]   12   32\n",
    "```\n",
    "\n",
    "Here is the calculation:\n",
    "\n",
    "\n",
    "\n",
    "$$\n",
    "\\begin{matrix} 1 & 3 \\\\ 2 & 4 \\end{matrix}\\times \\begin{matrix} 5 & 7 \\\\ 6 & 8 \\end{matrix}=\\begin{matrix} 1\\times 5 & 3\\times 7 \\\\ 2\\times 6 & 4\\times 8 \\end{matrix}=\\begin{matrix} 5 & 21 \\\\ 12 & 32 \\end{matrix}\n",
    "$$\n",
    "\n",
    "\n",
    "```R\n",
    "> m1 %*% m2\n",
    "     [,1] [,2]\n",
    "[1,]   23   31\n",
    "[2,]   34   46\n",
    "```\n",
    "\n",
    "Here is the calculation:\n",
    "$$\n",
    "\\begin{matrix} 1 & 3 \\\\ 2 & 4 \\end{matrix}\\cdot \\begin{matrix} 5 & 7 \\\\ 6 & 8 \\end{matrix}=\\begin{matrix} 1\\times 5+3\\times 6 & 1\\times 7+3\\times 8 \\\\ 2\\times 5+4\\times 6 & 2\\times 7+4\\times 8 \\end{matrix}=\\begin{matrix} 23 & 31 \\\\ 34 & 46 \\end{matrix}\n",
    "$$\n",
    "\n",
    "**Attributes**:\n",
    "\n",
    "We end today's tutorial with attributes. We start with some examples:"
   ]
  },
  {
   "cell_type": "code",
   "execution_count": 4,
   "metadata": {},
   "outputs": [
    {
     "data": {
      "text/html": [
       "<strong>$dim</strong> = <ol class=list-inline>\n",
       "\t<li>4</li>\n",
       "\t<li>5</li>\n",
       "</ol>\n"
      ],
      "text/latex": [
       "\\textbf{\\$dim} = \\begin{enumerate*}\n",
       "\\item 4\n",
       "\\item 5\n",
       "\\end{enumerate*}\n"
      ],
      "text/markdown": [
       "**$dim** = 1. 4\n",
       "2. 5\n",
       "\n",
       "\n"
      ],
      "text/plain": [
       "$dim\n",
       "[1] 4 5\n"
      ]
     },
     "metadata": {},
     "output_type": "display_data"
    }
   ],
   "source": [
    "attributes(mymatrix_1)"
   ]
  },
  {
   "cell_type": "code",
   "execution_count": 5,
   "metadata": {},
   "outputs": [
    {
     "data": {
      "text/html": [
       "<dl>\n",
       "\t<dt>$dim</dt>\n",
       "\t\t<dd><ol class=list-inline>\n",
       "\t<li>5</li>\n",
       "\t<li>4</li>\n",
       "</ol>\n",
       "</dd>\n",
       "\t<dt>$dimnames</dt>\n",
       "\t\t<dd><ol>\n",
       "\t<li><ol class=list-inline>\n",
       "\t<li>'r1'</li>\n",
       "\t<li>'r2'</li>\n",
       "\t<li>'r3'</li>\n",
       "\t<li>'r4'</li>\n",
       "\t<li>'r5'</li>\n",
       "</ol>\n",
       "</li>\n",
       "\t<li><ol class=list-inline>\n",
       "\t<li>'c1'</li>\n",
       "\t<li>'c2'</li>\n",
       "\t<li>'c3'</li>\n",
       "\t<li>'c4'</li>\n",
       "</ol>\n",
       "</li>\n",
       "</ol>\n",
       "</dd>\n",
       "</dl>\n"
      ],
      "text/latex": [
       "\\begin{description}\n",
       "\\item[\\$dim] \\begin{enumerate*}\n",
       "\\item 5\n",
       "\\item 4\n",
       "\\end{enumerate*}\n",
       "\n",
       "\\item[\\$dimnames] \\begin{enumerate}\n",
       "\\item \\begin{enumerate*}\n",
       "\\item 'r1'\n",
       "\\item 'r2'\n",
       "\\item 'r3'\n",
       "\\item 'r4'\n",
       "\\item 'r5'\n",
       "\\end{enumerate*}\n",
       "\n",
       "\\item \\begin{enumerate*}\n",
       "\\item 'c1'\n",
       "\\item 'c2'\n",
       "\\item 'c3'\n",
       "\\item 'c4'\n",
       "\\end{enumerate*}\n",
       "\n",
       "\\end{enumerate}\n",
       "\n",
       "\\end{description}\n"
      ],
      "text/markdown": [
       "$dim\n",
       ":   1. 5\n",
       "2. 4\n",
       "\n",
       "\n",
       "\n",
       "$dimnames\n",
       ":   1. 1. 'r1'\n",
       "2. 'r2'\n",
       "3. 'r3'\n",
       "4. 'r4'\n",
       "5. 'r5'\n",
       "\n",
       "\n",
       "\n",
       "2. 1. 'c1'\n",
       "2. 'c2'\n",
       "3. 'c3'\n",
       "4. 'c4'\n",
       "\n",
       "\n",
       "\n",
       "\n",
       "\n",
       "\n",
       "\n",
       "\n"
      ],
      "text/plain": [
       "$dim\n",
       "[1] 5 4\n",
       "\n",
       "$dimnames\n",
       "$dimnames[[1]]\n",
       "[1] \"r1\" \"r2\" \"r3\" \"r4\" \"r5\"\n",
       "\n",
       "$dimnames[[2]]\n",
       "[1] \"c1\" \"c2\" \"c3\" \"c4\"\n",
       "\n"
      ]
     },
     "metadata": {},
     "output_type": "display_data"
    }
   ],
   "source": [
    "attributes(mymatrix_2)"
   ]
  },
  {
   "cell_type": "markdown",
   "metadata": {},
   "source": [
    "We could easily find they both have `$dim` attribute, but only mymatrix_2 has `$dimnames` attribute. This is because we set names for mymatrix_2. \n",
    "\n",
    "Attributes can be accessed individually with `attr()` or all at once with `attributes()`. Sometimes, we could use `attr()` to create an attribute."
   ]
  },
  {
   "cell_type": "code",
   "execution_count": 6,
   "metadata": {},
   "outputs": [
    {
     "data": {
      "text/html": [
       "'Shawn'"
      ],
      "text/latex": [
       "'Shawn'"
      ],
      "text/markdown": [
       "'Shawn'"
      ],
      "text/plain": [
       "[1] \"Shawn\""
      ]
     },
     "metadata": {},
     "output_type": "display_data"
    }
   ],
   "source": [
    "# Add a new attribute\n",
    "attr(mymatrix_1, 'Author') <- 'Shawn'\n",
    "attr(mymatrix_1, 'Author')"
   ]
  },
  {
   "cell_type": "code",
   "execution_count": 7,
   "metadata": {},
   "outputs": [
    {
     "data": {
      "text/plain": [
       "NULL"
      ]
     },
     "metadata": {},
     "output_type": "display_data"
    }
   ],
   "source": [
    "# Remove one attribute\n",
    "attr(mymatrix_1, 'Author') <- NULL\n",
    "attr(mymatrix_1, 'Author')"
   ]
  },
  {
   "cell_type": "code",
   "execution_count": 8,
   "metadata": {},
   "outputs": [
    {
     "data": {
      "text/html": [
       "<strong>$dim</strong> = <ol class=list-inline>\n",
       "\t<li>4</li>\n",
       "\t<li>5</li>\n",
       "</ol>\n"
      ],
      "text/latex": [
       "\\textbf{\\$dim} = \\begin{enumerate*}\n",
       "\\item 4\n",
       "\\item 5\n",
       "\\end{enumerate*}\n"
      ],
      "text/markdown": [
       "**$dim** = 1. 4\n",
       "2. 5\n",
       "\n",
       "\n"
      ],
      "text/plain": [
       "$dim\n",
       "[1] 4 5\n"
      ]
     },
     "metadata": {},
     "output_type": "display_data"
    }
   ],
   "source": [
    "attributes(mymatrix_1)"
   ]
  },
  {
   "cell_type": "markdown",
   "metadata": {},
   "source": [
    "We already know how to add and remove attributes. There are three attributes are most important.\n",
    "\n",
    "* Names\n",
    "* Dimensions\n",
    "* Classes\n",
    "\n",
    "We could use `names()` function to set names for each element in your matrix or array, at the meantime, this function also helps use to check the name attribute.\n"
   ]
  },
  {
   "cell_type": "code",
   "execution_count": 9,
   "metadata": {},
   "outputs": [],
   "source": [
    "# Use names() set name for each element\n",
    "names(mymatrix_1) <- letters[1:20]"
   ]
  },
  {
   "cell_type": "code",
   "execution_count": 10,
   "metadata": {},
   "outputs": [
    {
     "data": {
      "text/html": [
       "<ol class=list-inline>\n",
       "\t<li>'a'</li>\n",
       "\t<li>'b'</li>\n",
       "\t<li>'c'</li>\n",
       "\t<li>'d'</li>\n",
       "\t<li>'e'</li>\n",
       "\t<li>'f'</li>\n",
       "\t<li>'g'</li>\n",
       "\t<li>'h'</li>\n",
       "\t<li>'i'</li>\n",
       "\t<li>'j'</li>\n",
       "\t<li>'k'</li>\n",
       "\t<li>'l'</li>\n",
       "\t<li>'m'</li>\n",
       "\t<li>'n'</li>\n",
       "\t<li>'o'</li>\n",
       "\t<li>'p'</li>\n",
       "\t<li>'q'</li>\n",
       "\t<li>'r'</li>\n",
       "\t<li>'s'</li>\n",
       "\t<li>'t'</li>\n",
       "</ol>\n"
      ],
      "text/latex": [
       "\\begin{enumerate*}\n",
       "\\item 'a'\n",
       "\\item 'b'\n",
       "\\item 'c'\n",
       "\\item 'd'\n",
       "\\item 'e'\n",
       "\\item 'f'\n",
       "\\item 'g'\n",
       "\\item 'h'\n",
       "\\item 'i'\n",
       "\\item 'j'\n",
       "\\item 'k'\n",
       "\\item 'l'\n",
       "\\item 'm'\n",
       "\\item 'n'\n",
       "\\item 'o'\n",
       "\\item 'p'\n",
       "\\item 'q'\n",
       "\\item 'r'\n",
       "\\item 's'\n",
       "\\item 't'\n",
       "\\end{enumerate*}\n"
      ],
      "text/markdown": [
       "1. 'a'\n",
       "2. 'b'\n",
       "3. 'c'\n",
       "4. 'd'\n",
       "5. 'e'\n",
       "6. 'f'\n",
       "7. 'g'\n",
       "8. 'h'\n",
       "9. 'i'\n",
       "10. 'j'\n",
       "11. 'k'\n",
       "12. 'l'\n",
       "13. 'm'\n",
       "14. 'n'\n",
       "15. 'o'\n",
       "16. 'p'\n",
       "17. 'q'\n",
       "18. 'r'\n",
       "19. 's'\n",
       "20. 't'\n",
       "\n",
       "\n"
      ],
      "text/plain": [
       " [1] \"a\" \"b\" \"c\" \"d\" \"e\" \"f\" \"g\" \"h\" \"i\" \"j\" \"k\" \"l\" \"m\" \"n\" \"o\" \"p\" \"q\" \"r\" \"s\"\n",
       "[20] \"t\""
      ]
     },
     "metadata": {},
     "output_type": "display_data"
    }
   ],
   "source": [
    "# Use names() to check it\n",
    "names(mymatrix_1)"
   ]
  },
  {
   "cell_type": "code",
   "execution_count": 11,
   "metadata": {},
   "outputs": [
    {
     "data": {
      "text/html": [
       "<dl>\n",
       "\t<dt>$dim</dt>\n",
       "\t\t<dd><ol class=list-inline>\n",
       "\t<li>4</li>\n",
       "\t<li>5</li>\n",
       "</ol>\n",
       "</dd>\n",
       "\t<dt>$names</dt>\n",
       "\t\t<dd><ol class=list-inline>\n",
       "\t<li>'a'</li>\n",
       "\t<li>'b'</li>\n",
       "\t<li>'c'</li>\n",
       "\t<li>'d'</li>\n",
       "\t<li>'e'</li>\n",
       "\t<li>'f'</li>\n",
       "\t<li>'g'</li>\n",
       "\t<li>'h'</li>\n",
       "\t<li>'i'</li>\n",
       "\t<li>'j'</li>\n",
       "\t<li>'k'</li>\n",
       "\t<li>'l'</li>\n",
       "\t<li>'m'</li>\n",
       "\t<li>'n'</li>\n",
       "\t<li>'o'</li>\n",
       "\t<li>'p'</li>\n",
       "\t<li>'q'</li>\n",
       "\t<li>'r'</li>\n",
       "\t<li>'s'</li>\n",
       "\t<li>'t'</li>\n",
       "</ol>\n",
       "</dd>\n",
       "</dl>\n"
      ],
      "text/latex": [
       "\\begin{description}\n",
       "\\item[\\$dim] \\begin{enumerate*}\n",
       "\\item 4\n",
       "\\item 5\n",
       "\\end{enumerate*}\n",
       "\n",
       "\\item[\\$names] \\begin{enumerate*}\n",
       "\\item 'a'\n",
       "\\item 'b'\n",
       "\\item 'c'\n",
       "\\item 'd'\n",
       "\\item 'e'\n",
       "\\item 'f'\n",
       "\\item 'g'\n",
       "\\item 'h'\n",
       "\\item 'i'\n",
       "\\item 'j'\n",
       "\\item 'k'\n",
       "\\item 'l'\n",
       "\\item 'm'\n",
       "\\item 'n'\n",
       "\\item 'o'\n",
       "\\item 'p'\n",
       "\\item 'q'\n",
       "\\item 'r'\n",
       "\\item 's'\n",
       "\\item 't'\n",
       "\\end{enumerate*}\n",
       "\n",
       "\\end{description}\n"
      ],
      "text/markdown": [
       "$dim\n",
       ":   1. 4\n",
       "2. 5\n",
       "\n",
       "\n",
       "\n",
       "$names\n",
       ":   1. 'a'\n",
       "2. 'b'\n",
       "3. 'c'\n",
       "4. 'd'\n",
       "5. 'e'\n",
       "6. 'f'\n",
       "7. 'g'\n",
       "8. 'h'\n",
       "9. 'i'\n",
       "10. 'j'\n",
       "11. 'k'\n",
       "12. 'l'\n",
       "13. 'm'\n",
       "14. 'n'\n",
       "15. 'o'\n",
       "16. 'p'\n",
       "17. 'q'\n",
       "18. 'r'\n",
       "19. 's'\n",
       "20. 't'\n",
       "\n",
       "\n",
       "\n",
       "\n",
       "\n"
      ],
      "text/plain": [
       "$dim\n",
       "[1] 4 5\n",
       "\n",
       "$names\n",
       " [1] \"a\" \"b\" \"c\" \"d\" \"e\" \"f\" \"g\" \"h\" \"i\" \"j\" \"k\" \"l\" \"m\" \"n\" \"o\" \"p\" \"q\" \"r\" \"s\"\n",
       "[20] \"t\"\n"
      ]
     },
     "metadata": {},
     "output_type": "display_data"
    }
   ],
   "source": [
    "# Use attributes() to call all attributes\n",
    "attributes(mymatrix_1)"
   ]
  },
  {
   "cell_type": "markdown",
   "metadata": {},
   "source": [
    "Once you named each element, we could use the name to select them."
   ]
  },
  {
   "cell_type": "code",
   "execution_count": 12,
   "metadata": {},
   "outputs": [
    {
     "data": {
      "text/html": [
       "<strong>a:</strong> 1"
      ],
      "text/latex": [
       "\\textbf{a:} 1"
      ],
      "text/markdown": [
       "**a:** 1"
      ],
      "text/plain": [
       "a \n",
       "1 "
      ]
     },
     "metadata": {},
     "output_type": "display_data"
    }
   ],
   "source": [
    "# R will return the element you select and its name\n",
    "mymatrix_1['a']"
   ]
  },
  {
   "cell_type": "code",
   "execution_count": 13,
   "metadata": {},
   "outputs": [
    {
     "data": {
      "text/html": [
       "<dl class=dl-horizontal>\n",
       "\t<dt>b</dt>\n",
       "\t\t<dd>2</dd>\n",
       "\t<dt>d</dt>\n",
       "\t\t<dd>4</dd>\n",
       "</dl>\n"
      ],
      "text/latex": [
       "\\begin{description*}\n",
       "\\item[b] 2\n",
       "\\item[d] 4\n",
       "\\end{description*}\n"
      ],
      "text/markdown": [
       "b\n",
       ":   2d\n",
       ":   4\n",
       "\n"
      ],
      "text/plain": [
       "b d \n",
       "2 4 "
      ]
     },
     "metadata": {},
     "output_type": "display_data"
    }
   ],
   "source": [
    "mymatrix_1[c('b', 'd')]"
   ]
  },
  {
   "cell_type": "markdown",
   "metadata": {},
   "source": [
    "`dim()` will tell us the dimensions of this matrix. `class()` will return the class information for us."
   ]
  },
  {
   "cell_type": "code",
   "execution_count": 14,
   "metadata": {},
   "outputs": [
    {
     "data": {
      "text/html": [
       "<ol class=list-inline>\n",
       "\t<li>4</li>\n",
       "\t<li>5</li>\n",
       "</ol>\n"
      ],
      "text/latex": [
       "\\begin{enumerate*}\n",
       "\\item 4\n",
       "\\item 5\n",
       "\\end{enumerate*}\n"
      ],
      "text/markdown": [
       "1. 4\n",
       "2. 5\n",
       "\n",
       "\n"
      ],
      "text/plain": [
       "[1] 4 5"
      ]
     },
     "metadata": {},
     "output_type": "display_data"
    }
   ],
   "source": [
    "dim(mymatrix_1)"
   ]
  },
  {
   "cell_type": "code",
   "execution_count": 15,
   "metadata": {},
   "outputs": [
    {
     "data": {
      "text/html": [
       "'matrix'"
      ],
      "text/latex": [
       "'matrix'"
      ],
      "text/markdown": [
       "'matrix'"
      ],
      "text/plain": [
       "[1] \"matrix\""
      ]
     },
     "metadata": {},
     "output_type": "display_data"
    }
   ],
   "source": [
    "class(mymatrix_1)"
   ]
  },
  {
   "cell_type": "markdown",
   "metadata": {},
   "source": [
    "OK, this is today's lecture. We will talk about array next time.\n",
    "\n",
    "See you guys next time."
   ]
  }
 ],
 "metadata": {
  "kernelspec": {
   "display_name": "R",
   "language": "R",
   "name": "ir"
  },
  "language_info": {
   "codemirror_mode": "r",
   "file_extension": ".r",
   "mimetype": "text/x-r-source",
   "name": "R",
   "pygments_lexer": "r",
   "version": "3.4.3"
  }
 },
 "nbformat": 4,
 "nbformat_minor": 2
}
