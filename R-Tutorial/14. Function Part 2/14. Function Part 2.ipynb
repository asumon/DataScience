{
 "cells": [
  {
   "cell_type": "markdown",
   "metadata": {},
   "source": [
    "# Function Part 2\n",
    "---\n",
    "\n",
    "Hey guys, welcome back. Last time, we built two simple functions. Today, we will create some complicated functions with control flow. \n",
    "\n",
    "Actually, we did not discuss one essential problem yet. Why we need a function? Remember the last time; we built a function returns us a sum of two numbers' square value.  Let's think about, what will happen if we do not use function to do this job"
   ]
  },
  {
   "cell_type": "code",
   "execution_count": 1,
   "metadata": {},
   "outputs": [
    {
     "data": {
      "text/html": [
       "34"
      ],
      "text/latex": [
       "34"
      ],
      "text/markdown": [
       "34"
      ],
      "text/plain": [
       "[1] 34"
      ]
     },
     "metadata": {},
     "output_type": "display_data"
    }
   ],
   "source": [
    "(3**2) + (5**2)"
   ]
  },
  {
   "cell_type": "code",
   "execution_count": 2,
   "metadata": {},
   "outputs": [
    {
     "data": {
      "text/html": [
       "85"
      ],
      "text/latex": [
       "85"
      ],
      "text/markdown": [
       "85"
      ],
      "text/plain": [
       "[1] 85"
      ]
     },
     "metadata": {},
     "output_type": "display_data"
    }
   ],
   "source": [
    "(7**2) + (6**2)"
   ]
  },
  {
   "cell_type": "markdown",
   "metadata": {},
   "source": [
    "See, each time when we want to know the result of two new numbers.  We need to copy this code and change it. So, in this case, we need to build a function to help us save time and reduce redundant work. \n"
   ]
  },
  {
   "cell_type": "code",
   "execution_count": 3,
   "metadata": {},
   "outputs": [],
   "source": [
    "# Built function first\n",
    "sum_square <- function(x, y) {\n",
    "  return (x**2 + y**2)\n",
    "}"
   ]
  },
  {
   "cell_type": "code",
   "execution_count": 4,
   "metadata": {},
   "outputs": [
    {
     "data": {
      "text/html": [
       "34"
      ],
      "text/latex": [
       "34"
      ],
      "text/markdown": [
       "34"
      ],
      "text/plain": [
       "[1] 34"
      ]
     },
     "metadata": {},
     "output_type": "display_data"
    }
   ],
   "source": [
    "sum_square(3, 5)"
   ]
  },
  {
   "cell_type": "code",
   "execution_count": 5,
   "metadata": {},
   "outputs": [
    {
     "data": {
      "text/html": [
       "85"
      ],
      "text/latex": [
       "85"
      ],
      "text/markdown": [
       "85"
      ],
      "text/plain": [
       "[1] 85"
      ]
     },
     "metadata": {},
     "output_type": "display_data"
    }
   ],
   "source": [
    "sum_square(7, 6)"
   ]
  },
  {
   "cell_type": "markdown",
   "metadata": {},
   "source": [
    "You maybe think this function is not a big deal, that is because this problem is simple to solve even without using a function. You will feel the power of function in the next content.\n",
    "\n",
    "---\n",
    "\n",
    "**Higher-Order Functions**\n",
    "\n",
    "Higher-Order Functions. What is it?  Let's keep it simple. \n",
    "\n",
    "> Functions that manipulate functions are called Higher-Order Functions.\n",
    ">\n",
    "> -- CS61A\n",
    "\n",
    "You could understand Higher-Order Functions is a function that uses other functions as its arguments. Flowing examples will give you a clear understanding for this sentence.\n",
    "\n",
    "1. How to build a function to get the sum of 1 to n?  Easy!"
   ]
  },
  {
   "cell_type": "code",
   "execution_count": 6,
   "metadata": {},
   "outputs": [],
   "source": [
    "sum_n <- function(n) {\n",
    "  ans = 0\n",
    "  for (i in 1:n) {\n",
    "    ans = ans + i \n",
    "  }\n",
    "  return (ans)\n",
    "}"
   ]
  },
  {
   "cell_type": "markdown",
   "metadata": {},
   "source": [
    "2. How to build a function to get the sum of 1 to n's square value? Still not hard."
   ]
  },
  {
   "cell_type": "code",
   "execution_count": 7,
   "metadata": {},
   "outputs": [],
   "source": [
    "sum_n_square <- function(n) {\n",
    "  ans = 0\n",
    "  for (i in 1:n) {\n",
    "    ans = ans + i**2 \n",
    "  }\n",
    "  return (ans)\n",
    "}"
   ]
  },
  {
   "cell_type": "markdown",
   "metadata": {},
   "source": [
    "3. How to build a function to get the sum of each value in 1 to n be processed by the following equation $pi * exp(x) * log(x)$."
   ]
  },
  {
   "cell_type": "code",
   "execution_count": 8,
   "metadata": {},
   "outputs": [],
   "source": [
    "sum_n_square <- function(n) {\n",
    "  ans = 0\n",
    "  for (i in 1:n) {\n",
    "    ans = ans + (pi * exp(i)) * log(i)\n",
    "  }\n",
    "  return (ans)\n",
    "}"
   ]
  },
  {
   "cell_type": "markdown",
   "metadata": {},
   "source": [
    "Each time, we have a new formulation then rewrite the function. If we have a complicated formula or even more than one formula? The thing becomes redundant, we need to spend a lot of time to modify the functions and it is highly likely we will make some mistakes if the function is complex.\n",
    "\n",
    "If we see these three functions closer, we should find they are almost the same thing.  For each function, we changed the formula for `i` in the loop. So, could we use higher-order functions to solve this problem? The answer is yes.\n",
    "\n",
    "Now, we do a little to our `sum_n` function. "
   ]
  },
  {
   "cell_type": "code",
   "execution_count": 9,
   "metadata": {},
   "outputs": [],
   "source": [
    "sum_n_func <- function(n, func) {\n",
    "  ans = 0\n",
    "  for (i in 1:n) {\n",
    "    ans = ans + func(i) \n",
    "  }\n",
    "  return (ans)\n",
    "}"
   ]
  },
  {
   "cell_type": "markdown",
   "metadata": {},
   "source": [
    "For this new function, here is the logic. We add a new argument which is`func` . This parameter is a formula function, and we map it to each `i` in the loop then the `ans` will update by a value returned from `func`. \n",
    "\n",
    "Let's  build some formula functions then pass them to our `sun_n_func` function. \n"
   ]
  },
  {
   "cell_type": "code",
   "execution_count": 10,
   "metadata": {},
   "outputs": [],
   "source": [
    "# the identity function\n",
    "identity <- function(x) {\n",
    "  return (x)\n",
    "}\n",
    "# square function\n",
    "square <- function(x) {\n",
    "  return (x**2)\n",
    "}\n",
    "# some strange function\n",
    "strange <- function(x) {\n",
    "  return(pi * exp(x) * log(x))\n",
    "}"
   ]
  },
  {
   "cell_type": "markdown",
   "metadata": {},
   "source": [
    "Now, we could pass these functions to our new function."
   ]
  },
  {
   "cell_type": "code",
   "execution_count": 11,
   "metadata": {},
   "outputs": [
    {
     "data": {
      "text/html": [
       "55"
      ],
      "text/latex": [
       "55"
      ],
      "text/markdown": [
       "55"
      ],
      "text/plain": [
       "[1] 55"
      ]
     },
     "metadata": {},
     "output_type": "display_data"
    }
   ],
   "source": [
    "sum_n_func(10, identity)"
   ]
  },
  {
   "cell_type": "code",
   "execution_count": 12,
   "metadata": {},
   "outputs": [
    {
     "data": {
      "text/html": [
       "385"
      ],
      "text/latex": [
       "385"
      ],
      "text/markdown": [
       "385"
      ],
      "text/plain": [
       "[1] 385"
      ]
     },
     "metadata": {},
     "output_type": "display_data"
    }
   ],
   "source": [
    "sum_n_func(10, square)"
   ]
  },
  {
   "cell_type": "code",
   "execution_count": 13,
   "metadata": {},
   "outputs": [
    {
     "data": {
      "text/html": [
       "244790.922148323"
      ],
      "text/latex": [
       "244790.922148323"
      ],
      "text/markdown": [
       "244790.922148323"
      ],
      "text/plain": [
       "[1] 244790.9"
      ]
     },
     "metadata": {},
     "output_type": "display_data"
    }
   ],
   "source": [
    "sum_n_func(10, strange)"
   ]
  }
 ],
 "metadata": {
  "kernelspec": {
   "display_name": "R",
   "language": "R",
   "name": "ir"
  },
  "language_info": {
   "codemirror_mode": "r",
   "file_extension": ".r",
   "mimetype": "text/x-r-source",
   "name": "R",
   "pygments_lexer": "r",
   "version": "3.4.3"
  }
 },
 "nbformat": 4,
 "nbformat_minor": 2
}
