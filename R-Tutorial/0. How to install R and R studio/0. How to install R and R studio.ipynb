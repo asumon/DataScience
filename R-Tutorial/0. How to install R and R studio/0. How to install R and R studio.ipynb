{
 "cells": [
  {
   "cell_type": "markdown",
   "metadata": {},
   "source": [
    "# How to install R and R studio\n",
    "---\n",
    "\n",
    "This tutorial will show you how to install R and R studio in different systems\n",
    "\n",
    "**Windows**:\n",
    "\n",
    "1. Download R from [CARN mirror](https://cran.r-project.org/mirrors.html), choose any mirror you like. Choose windows version. The downloaded file should end by `.exe`\n",
    "2. Download R studio from [R Studio](https://www.rstudio.com/products/rstudio/download/#download), choose Windows installer\n",
    "3. Install R and R Studio\n",
    "4. You are ready to use R in R Studio\n",
    "\n",
    "\n",
    "\n",
    "**Mac**:\n",
    "\n",
    "1. Download R from [CARN mirror](https://cran.r-project.org/mirrors.html), choose any mirror you like. Choose Mac version. The downloaded file should end by `.pkg`\n",
    "2.  Download R studio from [R Studio](https://www.rstudio.com/products/rstudio/download/#download), choose Mac OS X installer\n",
    "3. Install R and R Studio\n",
    "4. You are ready to use R in R Studio\n",
    "\n",
    "\n",
    "\n",
    "**Ubuntu**:\n",
    "\n",
    "We have many ways to install R and R Studio on Ubuntu. I recommend install R in Ubuntu Software Center.\n",
    "\n",
    "1. Open  **Ubuntu Software Center**\n",
    "2. Search for **r-base** then click ***Install***\n",
    "3. Download R studio from [R Studio](https://www.rstudio.com/products/rstudio/download/#download), choose Ubuntu installer\n",
    "4. Install R Studio\n",
    "5. You are ready to use R in R Studio\n",
    "\n",
    "\n",
    "\n",
    "**Jupyter Notebook**\n",
    "\n",
    "Most people will  choose R Studio as their main IDE(Integrated development environment). However, in some case, if you want to combine code, results, plots, documents, formula and so on. [Jupyter](http://jupyter.org) is a good choice to use. \n",
    "\n",
    "You need to do some extra setting for using R in R Jupyter Notebook. You could check more details in this [link](https://www.datacamp.com/community/blog/jupyter-notebook-r).\n",
    "\n",
    "**Please aware that you could use R Studio do the same thing. Jupyter is a little bit convenient. They are both fantastic IDE for DATA SCIENCE.**\n",
    "\n",
    "Next time we will talk about basic math operations in R."
   ]
  }
 ],
 "metadata": {
  "kernelspec": {
   "display_name": "R",
   "language": "R",
   "name": "ir"
  },
  "language_info": {
   "codemirror_mode": "r",
   "file_extension": ".r",
   "mimetype": "text/x-r-source",
   "name": "R",
   "pygments_lexer": "r",
   "version": "3.4.3"
  }
 },
 "nbformat": 4,
 "nbformat_minor": 2
}
